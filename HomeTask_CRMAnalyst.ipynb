{
  "nbformat": 4,
  "nbformat_minor": 0,
  "metadata": {
    "colab": {
      "name": "HomeTask-CRMAnalyst.ipynb",
      "provenance": [],
      "toc_visible": true,
      "include_colab_link": true
    },
    "kernelspec": {
      "display_name": "Python 3",
      "language": "python",
      "name": "python3"
    },
    "language_info": {
      "codemirror_mode": {
        "name": "ipython",
        "version": 3
      },
      "file_extension": ".py",
      "mimetype": "text/x-python",
      "name": "python",
      "nbconvert_exporter": "python",
      "pygments_lexer": "ipython3",
      "version": "3.7.6"
    }
  },
  "cells": [
    {
      "cell_type": "markdown",
      "metadata": {
        "id": "view-in-github",
        "colab_type": "text"
      },
      "source": [
        "<a href=\"https://colab.research.google.com/github/poddardelhi/crm_homeTask/blob/main/HomeTask_CRMAnalyst.ipynb\" target=\"_parent\"><img src=\"https://colab.research.google.com/assets/colab-badge.svg\" alt=\"Open In Colab\"/></a>"
      ]
    },
    {
      "cell_type": "code",
      "metadata": {
        "colab": {
          "base_uri": "https://localhost:8080/"
        },
        "id": "Bj28EJ9JgGmO",
        "outputId": "1d17c272-dcb7-4dd5-8188-e60f094d4f41"
      },
      "source": [
        "# Jovian Commit Essentials\n",
        "# Please retain and execute this cell without modifying the contents for `jovian.commit` to work\n",
        "!pip install jovian --upgrade -q\n",
        "import jovian\n",
        "jovian.set_project('crm-analyst-home-task')\n",
        "jovian.set_colab_id('19qlyMoLkYQQTuyeGOT8H77D-46PRtm_K')"
      ],
      "execution_count": 1,
      "outputs": [
        {
          "output_type": "stream",
          "text": [
            "\u001b[?25l\r\u001b[K     |████▉                           | 10kB 18.4MB/s eta 0:00:01\r\u001b[K     |█████████▊                      | 20kB 15.7MB/s eta 0:00:01\r\u001b[K     |██████████████▌                 | 30kB 10.5MB/s eta 0:00:01\r\u001b[K     |███████████████████▍            | 40kB 9.0MB/s eta 0:00:01\r\u001b[K     |████████████████████████▏       | 51kB 5.4MB/s eta 0:00:01\r\u001b[K     |█████████████████████████████   | 61kB 5.9MB/s eta 0:00:01\r\u001b[K     |████████████████████████████████| 71kB 3.6MB/s \n",
            "\u001b[?25h  Building wheel for uuid (setup.py) ... \u001b[?25l\u001b[?25hdone\n"
          ],
          "name": "stdout"
        }
      ]
    },
    {
      "cell_type": "markdown",
      "metadata": {
        "id": "zVs9-OWGdOXx"
      },
      "source": [
        "# Commit the work"
      ]
    },
    {
      "cell_type": "code",
      "metadata": {
        "colab": {
          "base_uri": "https://localhost:8080/",
          "height": 103
        },
        "id": "b0aREkIjMR3K",
        "outputId": "bca6b6d8-3cc2-421c-a125-d86cd7aca7b3"
      },
      "source": [
        "#Save the work to JOVIAN.ML\n",
        "project_name = \"crm-analyst-home-task\"\n",
        " # change this\n",
        "jovian.commit(project=project_name)"
      ],
      "execution_count": 45,
      "outputs": [
        {
          "output_type": "stream",
          "text": [
            "[jovian] Detected Colab notebook...\u001b[0m\n",
            "[jovian] Uploading colab notebook to Jovian...\u001b[0m\n",
            "[jovian] Capturing environment..\u001b[0m\n",
            "[jovian] Committed successfully! https://jovian.ai/poddardelhi/crm-analyst-home-task\u001b[0m\n"
          ],
          "name": "stdout"
        },
        {
          "output_type": "execute_result",
          "data": {
            "application/vnd.google.colaboratory.intrinsic+json": {
              "type": "string"
            },
            "text/plain": [
              "'https://jovian.ai/poddardelhi/crm-analyst-home-task'"
            ]
          },
          "metadata": {
            "tags": []
          },
          "execution_count": 45
        }
      ]
    },
    {
      "cell_type": "code",
      "metadata": {
        "colab": {
          "base_uri": "https://localhost:8080/"
        },
        "id": "W88VBk3kQMFU",
        "outputId": "ecbed624-91fa-4c65-82b4-39b0e7e01874"
      },
      "source": [
        "from google.colab import drive\n",
        "drive.mount('/content/drive')"
      ],
      "execution_count": 3,
      "outputs": [
        {
          "output_type": "stream",
          "text": [
            "Mounted at /content/drive\n"
          ],
          "name": "stdout"
        }
      ]
    },
    {
      "cell_type": "code",
      "metadata": {
        "id": "dXbKgO3-R87a"
      },
      "source": [
        "# Importing the necessary libraries\n",
        "import numpy as np\n",
        "import pandas as pd\n",
        "import pandas_profiling\n",
        "import seaborn as sns\n",
        "import matplotlib.pyplot as plt\n",
        "\n",
        "%matplotlib inline"
      ],
      "execution_count": 4,
      "outputs": []
    },
    {
      "cell_type": "markdown",
      "metadata": {
        "id": "eeCEIWVBQs7j"
      },
      "source": [
        "# Task 1\n",
        "\n",
        "\n",
        "\n",
        "1. Calculate the following rates, based on data from the page \"1. Data\" (in the data sheet there are columns currently empty - fill them):\n",
        "  \n",
        "  1.1. Funnel Start Rate (Rate at which Sessions become Started Applications).\n",
        "  \n",
        "  1.2. Approval Rate (Rate at which Finished Applications become Approved Applications)\n",
        "  \n",
        "  1.3. Write Rate (Rate at which Approved Applications become Paid Applications)\n",
        "\n",
        "\n",
        "\n",
        "\n"
      ]
    },
    {
      "cell_type": "code",
      "metadata": {
        "id": "x4UNGZ6xQM0Q"
      },
      "source": [
        "df_application= pd.read_csv(\"/content/drive/MyDrive/Jovian/Ferratum_CRM/data_q1.csv\")"
      ],
      "execution_count": null,
      "outputs": []
    },
    {
      "cell_type": "code",
      "metadata": {
        "colab": {
          "base_uri": "https://localhost:8080/",
          "height": 204
        },
        "id": "eVk8gJLyTRVJ",
        "outputId": "71b6b44d-31e4-40d0-80a3-babb9ba9807e"
      },
      "source": [
        "df_application.head()"
      ],
      "execution_count": null,
      "outputs": [
        {
          "output_type": "execute_result",
          "data": {
            "text/html": [
              "<div>\n",
              "<style scoped>\n",
              "    .dataframe tbody tr th:only-of-type {\n",
              "        vertical-align: middle;\n",
              "    }\n",
              "\n",
              "    .dataframe tbody tr th {\n",
              "        vertical-align: top;\n",
              "    }\n",
              "\n",
              "    .dataframe thead th {\n",
              "        text-align: right;\n",
              "    }\n",
              "</style>\n",
              "<table border=\"1\" class=\"dataframe\">\n",
              "  <thead>\n",
              "    <tr style=\"text-align: right;\">\n",
              "      <th></th>\n",
              "      <th>Country</th>\n",
              "      <th>Date</th>\n",
              "      <th>Date_HR</th>\n",
              "      <th>Sessions</th>\n",
              "      <th>StartedApplications</th>\n",
              "      <th>FinishedApps</th>\n",
              "      <th>Approved</th>\n",
              "      <th>PaidOut</th>\n",
              "    </tr>\n",
              "  </thead>\n",
              "  <tbody>\n",
              "    <tr>\n",
              "      <th>0</th>\n",
              "      <td>Australia</td>\n",
              "      <td>43466</td>\n",
              "      <td>01/01/2019</td>\n",
              "      <td>91127.0</td>\n",
              "      <td>28144.0</td>\n",
              "      <td>10587</td>\n",
              "      <td>523.0</td>\n",
              "      <td>510.0</td>\n",
              "    </tr>\n",
              "    <tr>\n",
              "      <th>1</th>\n",
              "      <td>Australia</td>\n",
              "      <td>43497</td>\n",
              "      <td>01/02/2019</td>\n",
              "      <td>77586.0</td>\n",
              "      <td>24290.0</td>\n",
              "      <td>9054</td>\n",
              "      <td>546.0</td>\n",
              "      <td>537.0</td>\n",
              "    </tr>\n",
              "    <tr>\n",
              "      <th>2</th>\n",
              "      <td>Australia</td>\n",
              "      <td>43525</td>\n",
              "      <td>01/03/2019</td>\n",
              "      <td>65420.0</td>\n",
              "      <td>18904.0</td>\n",
              "      <td>7614</td>\n",
              "      <td>446.0</td>\n",
              "      <td>439.0</td>\n",
              "    </tr>\n",
              "    <tr>\n",
              "      <th>3</th>\n",
              "      <td>Brazil</td>\n",
              "      <td>43466</td>\n",
              "      <td>01/01/2019</td>\n",
              "      <td>232295.0</td>\n",
              "      <td>143099.0</td>\n",
              "      <td>14264</td>\n",
              "      <td>1229.0</td>\n",
              "      <td>678.0</td>\n",
              "    </tr>\n",
              "    <tr>\n",
              "      <th>4</th>\n",
              "      <td>Brazil</td>\n",
              "      <td>43497</td>\n",
              "      <td>01/02/2019</td>\n",
              "      <td>168190.0</td>\n",
              "      <td>99253.0</td>\n",
              "      <td>14090</td>\n",
              "      <td>755.0</td>\n",
              "      <td>321.0</td>\n",
              "    </tr>\n",
              "  </tbody>\n",
              "</table>\n",
              "</div>"
            ],
            "text/plain": [
              "     Country   Date     Date_HR  ...  FinishedApps  Approved  PaidOut\n",
              "0  Australia  43466  01/01/2019  ...         10587     523.0    510.0\n",
              "1  Australia  43497  01/02/2019  ...          9054     546.0    537.0\n",
              "2  Australia  43525  01/03/2019  ...          7614     446.0    439.0\n",
              "3     Brazil  43466  01/01/2019  ...         14264    1229.0    678.0\n",
              "4     Brazil  43497  01/02/2019  ...         14090     755.0    321.0\n",
              "\n",
              "[5 rows x 8 columns]"
            ]
          },
          "metadata": {
            "tags": []
          },
          "execution_count": 8
        }
      ]
    },
    {
      "cell_type": "code",
      "metadata": {
        "colab": {
          "base_uri": "https://localhost:8080/"
        },
        "id": "mVx6wWI9c2bT",
        "outputId": "5095fca8-4678-498b-a5d8-a3f81fafb374"
      },
      "source": [
        "df_application.shape"
      ],
      "execution_count": null,
      "outputs": [
        {
          "output_type": "execute_result",
          "data": {
            "text/plain": [
              "(66, 8)"
            ]
          },
          "metadata": {
            "tags": []
          },
          "execution_count": 9
        }
      ]
    },
    {
      "cell_type": "code",
      "metadata": {
        "colab": {
          "base_uri": "https://localhost:8080/"
        },
        "id": "9FLkYii6dtpX",
        "outputId": "058a7824-a4c2-4c13-e04f-f16aaa38ee1c"
      },
      "source": [
        "#checking the Null or Nan values\n",
        "df_application.isna().sum()"
      ],
      "execution_count": null,
      "outputs": [
        {
          "output_type": "execute_result",
          "data": {
            "text/plain": [
              "Country                0\n",
              "Date                   0\n",
              "Date_HR                0\n",
              "Sessions               3\n",
              "StartedApplications    3\n",
              "FinishedApps           0\n",
              "Approved               2\n",
              "PaidOut                2\n",
              "dtype: int64"
            ]
          },
          "metadata": {
            "tags": []
          },
          "execution_count": 87
        }
      ]
    },
    {
      "cell_type": "code",
      "metadata": {
        "colab": {
          "base_uri": "https://localhost:8080/",
          "height": 204
        },
        "id": "yG3iXRKGe3Sv",
        "outputId": "d29131aa-9954-40b4-a4ed-b8a1863a7219"
      },
      "source": [
        "# Finding the individual rows that are Null/NaN type\n",
        "none_values=df_application[df_application.isna().any(axis=1)][::]\n",
        "none_values.head()\n"
      ],
      "execution_count": null,
      "outputs": [
        {
          "output_type": "execute_result",
          "data": {
            "text/html": [
              "<div>\n",
              "<style scoped>\n",
              "    .dataframe tbody tr th:only-of-type {\n",
              "        vertical-align: middle;\n",
              "    }\n",
              "\n",
              "    .dataframe tbody tr th {\n",
              "        vertical-align: top;\n",
              "    }\n",
              "\n",
              "    .dataframe thead th {\n",
              "        text-align: right;\n",
              "    }\n",
              "</style>\n",
              "<table border=\"1\" class=\"dataframe\">\n",
              "  <thead>\n",
              "    <tr style=\"text-align: right;\">\n",
              "      <th></th>\n",
              "      <th>Country</th>\n",
              "      <th>Date</th>\n",
              "      <th>Date_HR</th>\n",
              "      <th>Sessions</th>\n",
              "      <th>StartedApplications</th>\n",
              "      <th>FinishedApps</th>\n",
              "      <th>Approved</th>\n",
              "      <th>PaidOut</th>\n",
              "    </tr>\n",
              "  </thead>\n",
              "  <tbody>\n",
              "    <tr>\n",
              "      <th>39</th>\n",
              "      <td>Nigeria</td>\n",
              "      <td>43466</td>\n",
              "      <td>01/01/2019</td>\n",
              "      <td>NaN</td>\n",
              "      <td>NaN</td>\n",
              "      <td>92940</td>\n",
              "      <td>6.0</td>\n",
              "      <td>4.0</td>\n",
              "    </tr>\n",
              "    <tr>\n",
              "      <th>40</th>\n",
              "      <td>Nigeria</td>\n",
              "      <td>43497</td>\n",
              "      <td>01/02/2019</td>\n",
              "      <td>NaN</td>\n",
              "      <td>NaN</td>\n",
              "      <td>70493</td>\n",
              "      <td>4.0</td>\n",
              "      <td>1.0</td>\n",
              "    </tr>\n",
              "    <tr>\n",
              "      <th>41</th>\n",
              "      <td>Nigeria</td>\n",
              "      <td>43525</td>\n",
              "      <td>01/03/2019</td>\n",
              "      <td>NaN</td>\n",
              "      <td>NaN</td>\n",
              "      <td>60915</td>\n",
              "      <td>5.0</td>\n",
              "      <td>2.0</td>\n",
              "    </tr>\n",
              "    <tr>\n",
              "      <th>52</th>\n",
              "      <td>Russia</td>\n",
              "      <td>43497</td>\n",
              "      <td>01/02/2019</td>\n",
              "      <td>38605.0</td>\n",
              "      <td>13951.0</td>\n",
              "      <td>6228</td>\n",
              "      <td>NaN</td>\n",
              "      <td>NaN</td>\n",
              "    </tr>\n",
              "    <tr>\n",
              "      <th>53</th>\n",
              "      <td>Russia</td>\n",
              "      <td>43525</td>\n",
              "      <td>01/03/2019</td>\n",
              "      <td>16772.0</td>\n",
              "      <td>389.0</td>\n",
              "      <td>0</td>\n",
              "      <td>NaN</td>\n",
              "      <td>NaN</td>\n",
              "    </tr>\n",
              "  </tbody>\n",
              "</table>\n",
              "</div>"
            ],
            "text/plain": [
              "    Country   Date     Date_HR  ...  FinishedApps  Approved  PaidOut\n",
              "39  Nigeria  43466  01/01/2019  ...         92940       6.0      4.0\n",
              "40  Nigeria  43497  01/02/2019  ...         70493       4.0      1.0\n",
              "41  Nigeria  43525  01/03/2019  ...         60915       5.0      2.0\n",
              "52   Russia  43497  01/02/2019  ...          6228       NaN      NaN\n",
              "53   Russia  43525  01/03/2019  ...             0       NaN      NaN\n",
              "\n",
              "[5 rows x 8 columns]"
            ]
          },
          "metadata": {
            "tags": []
          },
          "execution_count": 10
        }
      ]
    },
    {
      "cell_type": "markdown",
      "metadata": {
        "id": "ssJY994pk3qE"
      },
      "source": [
        "## Empty columns?\n",
        "We have many empty columns for countries Nigeria and Russia. I'm taking a assumption here that every time a user logs in, it is recorded as 1 session. Therefore, I'm disregarding Nigeria during analysis and value 0 is replaced for all empty cells.\n",
        "\n",
        "In case of Russia, all NaN cells are replaced with value 0\n"
      ]
    },
    {
      "cell_type": "code",
      "metadata": {
        "colab": {
          "base_uri": "https://localhost:8080/"
        },
        "id": "eYbIvVXmAuDR",
        "outputId": "4d38042b-c972-4bfa-a2f2-1f80e6476647"
      },
      "source": [
        "df_application.fillna(value=0, axis=1, inplace=True)\n",
        "df_application.isna().sum()"
      ],
      "execution_count": null,
      "outputs": [
        {
          "output_type": "execute_result",
          "data": {
            "text/plain": [
              "Country                0\n",
              "Date                   0\n",
              "Date_HR                0\n",
              "Sessions               0\n",
              "StartedApplications    0\n",
              "FinishedApps           0\n",
              "Approved               0\n",
              "PaidOut                0\n",
              "dtype: int64"
            ]
          },
          "metadata": {
            "tags": []
          },
          "execution_count": 11
        }
      ]
    },
    {
      "cell_type": "code",
      "metadata": {
        "colab": {
          "base_uri": "https://localhost:8080/",
          "height": 204
        },
        "id": "5CspwAqgCpji",
        "outputId": "b676a0d4-9dd1-4f88-943b-3558b006e88c"
      },
      "source": [
        "# Dropping the excel serial date column \n",
        "df_application.drop(labels='Date', axis=1,inplace=True)\n",
        "df_application.head()"
      ],
      "execution_count": null,
      "outputs": [
        {
          "output_type": "execute_result",
          "data": {
            "text/html": [
              "<div>\n",
              "<style scoped>\n",
              "    .dataframe tbody tr th:only-of-type {\n",
              "        vertical-align: middle;\n",
              "    }\n",
              "\n",
              "    .dataframe tbody tr th {\n",
              "        vertical-align: top;\n",
              "    }\n",
              "\n",
              "    .dataframe thead th {\n",
              "        text-align: right;\n",
              "    }\n",
              "</style>\n",
              "<table border=\"1\" class=\"dataframe\">\n",
              "  <thead>\n",
              "    <tr style=\"text-align: right;\">\n",
              "      <th></th>\n",
              "      <th>Country</th>\n",
              "      <th>Date_HR</th>\n",
              "      <th>Sessions</th>\n",
              "      <th>StartedApplications</th>\n",
              "      <th>FinishedApps</th>\n",
              "      <th>Approved</th>\n",
              "      <th>PaidOut</th>\n",
              "    </tr>\n",
              "  </thead>\n",
              "  <tbody>\n",
              "    <tr>\n",
              "      <th>0</th>\n",
              "      <td>Australia</td>\n",
              "      <td>01/01/2019</td>\n",
              "      <td>91127.0</td>\n",
              "      <td>28144.0</td>\n",
              "      <td>10587</td>\n",
              "      <td>523.0</td>\n",
              "      <td>510.0</td>\n",
              "    </tr>\n",
              "    <tr>\n",
              "      <th>1</th>\n",
              "      <td>Australia</td>\n",
              "      <td>01/02/2019</td>\n",
              "      <td>77586.0</td>\n",
              "      <td>24290.0</td>\n",
              "      <td>9054</td>\n",
              "      <td>546.0</td>\n",
              "      <td>537.0</td>\n",
              "    </tr>\n",
              "    <tr>\n",
              "      <th>2</th>\n",
              "      <td>Australia</td>\n",
              "      <td>01/03/2019</td>\n",
              "      <td>65420.0</td>\n",
              "      <td>18904.0</td>\n",
              "      <td>7614</td>\n",
              "      <td>446.0</td>\n",
              "      <td>439.0</td>\n",
              "    </tr>\n",
              "    <tr>\n",
              "      <th>3</th>\n",
              "      <td>Brazil</td>\n",
              "      <td>01/01/2019</td>\n",
              "      <td>232295.0</td>\n",
              "      <td>143099.0</td>\n",
              "      <td>14264</td>\n",
              "      <td>1229.0</td>\n",
              "      <td>678.0</td>\n",
              "    </tr>\n",
              "    <tr>\n",
              "      <th>4</th>\n",
              "      <td>Brazil</td>\n",
              "      <td>01/02/2019</td>\n",
              "      <td>168190.0</td>\n",
              "      <td>99253.0</td>\n",
              "      <td>14090</td>\n",
              "      <td>755.0</td>\n",
              "      <td>321.0</td>\n",
              "    </tr>\n",
              "  </tbody>\n",
              "</table>\n",
              "</div>"
            ],
            "text/plain": [
              "     Country     Date_HR  Sessions  ...  FinishedApps  Approved  PaidOut\n",
              "0  Australia  01/01/2019   91127.0  ...         10587     523.0    510.0\n",
              "1  Australia  01/02/2019   77586.0  ...          9054     546.0    537.0\n",
              "2  Australia  01/03/2019   65420.0  ...          7614     446.0    439.0\n",
              "3     Brazil  01/01/2019  232295.0  ...         14264    1229.0    678.0\n",
              "4     Brazil  01/02/2019  168190.0  ...         14090     755.0    321.0\n",
              "\n",
              "[5 rows x 7 columns]"
            ]
          },
          "metadata": {
            "tags": []
          },
          "execution_count": 12
        }
      ]
    },
    {
      "cell_type": "code",
      "metadata": {
        "id": "wP27KEaaCrpm"
      },
      "source": [
        "df_application.rename(columns={'Date_HR':'Date'},inplace=True)\n",
        "df_application['Date'] = pd.to_datetime(df_application.Date, format='%d/%m/%Y')\n",
        "df_application['Date']=df_application['Date'].dt.strftime('%d/%m/%Y')\n",
        "df_application['Date'] = pd.to_datetime(df_application['Date'])\n",
        "df_application['Month']= pd.DatetimeIndex(df_application['Date']).month"
      ],
      "execution_count": null,
      "outputs": []
    },
    {
      "cell_type": "code",
      "metadata": {
        "colab": {
          "base_uri": "https://localhost:8080/",
          "height": 204
        },
        "id": "IdTKS98bC_b6",
        "outputId": "2854bff6-bce8-463a-a108-ec330b6dc933"
      },
      "source": [
        "# renaming the month integer values (1,2,3) to string values \n",
        "df_application['Month']= df_application['Month'].replace({1:\"January\", 2:\"February\",3:\"March\"})\n",
        "df_application.head()"
      ],
      "execution_count": null,
      "outputs": [
        {
          "output_type": "execute_result",
          "data": {
            "text/html": [
              "<div>\n",
              "<style scoped>\n",
              "    .dataframe tbody tr th:only-of-type {\n",
              "        vertical-align: middle;\n",
              "    }\n",
              "\n",
              "    .dataframe tbody tr th {\n",
              "        vertical-align: top;\n",
              "    }\n",
              "\n",
              "    .dataframe thead th {\n",
              "        text-align: right;\n",
              "    }\n",
              "</style>\n",
              "<table border=\"1\" class=\"dataframe\">\n",
              "  <thead>\n",
              "    <tr style=\"text-align: right;\">\n",
              "      <th></th>\n",
              "      <th>Country</th>\n",
              "      <th>Date</th>\n",
              "      <th>Sessions</th>\n",
              "      <th>StartedApplications</th>\n",
              "      <th>FinishedApps</th>\n",
              "      <th>Approved</th>\n",
              "      <th>PaidOut</th>\n",
              "      <th>Month</th>\n",
              "    </tr>\n",
              "  </thead>\n",
              "  <tbody>\n",
              "    <tr>\n",
              "      <th>0</th>\n",
              "      <td>Australia</td>\n",
              "      <td>2019-01-01</td>\n",
              "      <td>91127.0</td>\n",
              "      <td>28144.0</td>\n",
              "      <td>10587</td>\n",
              "      <td>523.0</td>\n",
              "      <td>510.0</td>\n",
              "      <td>January</td>\n",
              "    </tr>\n",
              "    <tr>\n",
              "      <th>1</th>\n",
              "      <td>Australia</td>\n",
              "      <td>2019-02-01</td>\n",
              "      <td>77586.0</td>\n",
              "      <td>24290.0</td>\n",
              "      <td>9054</td>\n",
              "      <td>546.0</td>\n",
              "      <td>537.0</td>\n",
              "      <td>February</td>\n",
              "    </tr>\n",
              "    <tr>\n",
              "      <th>2</th>\n",
              "      <td>Australia</td>\n",
              "      <td>2019-03-01</td>\n",
              "      <td>65420.0</td>\n",
              "      <td>18904.0</td>\n",
              "      <td>7614</td>\n",
              "      <td>446.0</td>\n",
              "      <td>439.0</td>\n",
              "      <td>March</td>\n",
              "    </tr>\n",
              "    <tr>\n",
              "      <th>3</th>\n",
              "      <td>Brazil</td>\n",
              "      <td>2019-01-01</td>\n",
              "      <td>232295.0</td>\n",
              "      <td>143099.0</td>\n",
              "      <td>14264</td>\n",
              "      <td>1229.0</td>\n",
              "      <td>678.0</td>\n",
              "      <td>January</td>\n",
              "    </tr>\n",
              "    <tr>\n",
              "      <th>4</th>\n",
              "      <td>Brazil</td>\n",
              "      <td>2019-02-01</td>\n",
              "      <td>168190.0</td>\n",
              "      <td>99253.0</td>\n",
              "      <td>14090</td>\n",
              "      <td>755.0</td>\n",
              "      <td>321.0</td>\n",
              "      <td>February</td>\n",
              "    </tr>\n",
              "  </tbody>\n",
              "</table>\n",
              "</div>"
            ],
            "text/plain": [
              "     Country       Date  Sessions  ...  Approved  PaidOut     Month\n",
              "0  Australia 2019-01-01   91127.0  ...     523.0    510.0   January\n",
              "1  Australia 2019-02-01   77586.0  ...     546.0    537.0  February\n",
              "2  Australia 2019-03-01   65420.0  ...     446.0    439.0     March\n",
              "3     Brazil 2019-01-01  232295.0  ...    1229.0    678.0   January\n",
              "4     Brazil 2019-02-01  168190.0  ...     755.0    321.0  February\n",
              "\n",
              "[5 rows x 8 columns]"
            ]
          },
          "metadata": {
            "tags": []
          },
          "execution_count": 16
        }
      ]
    },
    {
      "cell_type": "markdown",
      "metadata": {
        "id": "SZZQOAsBfKGp"
      },
      "source": [
        "# Calculate the following rates, based on data from the page "
      ]
    },
    {
      "cell_type": "code",
      "metadata": {
        "colab": {
          "base_uri": "https://localhost:8080/",
          "height": 235
        },
        "id": "zSYQh7hIC1UA",
        "outputId": "0a970f8d-c1b4-44f9-d1d2-d338fbc34ec7"
      },
      "source": [
        "#Funnel Start Rate\n",
        "df_application['FunnelStartRate']= (df_application['StartedApplications']/ df_application['Sessions']) * 100\n",
        "#Conversion rate\n",
        "df_application['ConversionRate']= (df_application['FinishedApps']/ df_application['StartedApplications']) * 100\n",
        "#Approval rate\n",
        "df_application['ApprovalRate']= (df_application['Approved']/df_application['FinishedApps']) *100\n",
        "\n",
        "# Write Rate\n",
        "df_application['WriteRate']= (df_application['PaidOut']/ df_application['Approved']) *100\n",
        "#Displaying the above calculated values\n",
        "df_application.loc[:5,['Country','Date','FunnelStartRate','ConversionRate','ApprovalRate', 'WriteRate']]\n"
      ],
      "execution_count": null,
      "outputs": [
        {
          "output_type": "execute_result",
          "data": {
            "text/html": [
              "<div>\n",
              "<style scoped>\n",
              "    .dataframe tbody tr th:only-of-type {\n",
              "        vertical-align: middle;\n",
              "    }\n",
              "\n",
              "    .dataframe tbody tr th {\n",
              "        vertical-align: top;\n",
              "    }\n",
              "\n",
              "    .dataframe thead th {\n",
              "        text-align: right;\n",
              "    }\n",
              "</style>\n",
              "<table border=\"1\" class=\"dataframe\">\n",
              "  <thead>\n",
              "    <tr style=\"text-align: right;\">\n",
              "      <th></th>\n",
              "      <th>Country</th>\n",
              "      <th>Date</th>\n",
              "      <th>FunnelStartRate</th>\n",
              "      <th>ConversionRate</th>\n",
              "      <th>ApprovalRate</th>\n",
              "      <th>WriteRate</th>\n",
              "    </tr>\n",
              "  </thead>\n",
              "  <tbody>\n",
              "    <tr>\n",
              "      <th>0</th>\n",
              "      <td>Australia</td>\n",
              "      <td>2019-01-01</td>\n",
              "      <td>30.884370</td>\n",
              "      <td>37.617254</td>\n",
              "      <td>4.940021</td>\n",
              "      <td>97.514340</td>\n",
              "    </tr>\n",
              "    <tr>\n",
              "      <th>1</th>\n",
              "      <td>Australia</td>\n",
              "      <td>2019-02-01</td>\n",
              "      <td>31.307195</td>\n",
              "      <td>37.274599</td>\n",
              "      <td>6.030484</td>\n",
              "      <td>98.351648</td>\n",
              "    </tr>\n",
              "    <tr>\n",
              "      <th>2</th>\n",
              "      <td>Australia</td>\n",
              "      <td>2019-03-01</td>\n",
              "      <td>28.896362</td>\n",
              "      <td>40.277190</td>\n",
              "      <td>5.857631</td>\n",
              "      <td>98.430493</td>\n",
              "    </tr>\n",
              "    <tr>\n",
              "      <th>3</th>\n",
              "      <td>Brazil</td>\n",
              "      <td>2019-01-01</td>\n",
              "      <td>61.602273</td>\n",
              "      <td>9.967924</td>\n",
              "      <td>8.616096</td>\n",
              "      <td>55.166802</td>\n",
              "    </tr>\n",
              "    <tr>\n",
              "      <th>4</th>\n",
              "      <td>Brazil</td>\n",
              "      <td>2019-02-01</td>\n",
              "      <td>59.012426</td>\n",
              "      <td>14.196044</td>\n",
              "      <td>5.358410</td>\n",
              "      <td>42.516556</td>\n",
              "    </tr>\n",
              "    <tr>\n",
              "      <th>5</th>\n",
              "      <td>Brazil</td>\n",
              "      <td>2019-03-01</td>\n",
              "      <td>47.402617</td>\n",
              "      <td>24.424740</td>\n",
              "      <td>4.333376</td>\n",
              "      <td>59.292035</td>\n",
              "    </tr>\n",
              "  </tbody>\n",
              "</table>\n",
              "</div>"
            ],
            "text/plain": [
              "     Country       Date  ...  ApprovalRate  WriteRate\n",
              "0  Australia 2019-01-01  ...      4.940021  97.514340\n",
              "1  Australia 2019-02-01  ...      6.030484  98.351648\n",
              "2  Australia 2019-03-01  ...      5.857631  98.430493\n",
              "3     Brazil 2019-01-01  ...      8.616096  55.166802\n",
              "4     Brazil 2019-02-01  ...      5.358410  42.516556\n",
              "5     Brazil 2019-03-01  ...      4.333376  59.292035\n",
              "\n",
              "[6 rows x 6 columns]"
            ]
          },
          "metadata": {
            "tags": []
          },
          "execution_count": 17
        }
      ]
    },
    {
      "cell_type": "markdown",
      "metadata": {
        "id": "zyDr4DtodLGp"
      },
      "source": [
        "#Creating the pivot visualization of all the rates in Q1 months"
      ]
    },
    {
      "cell_type": "code",
      "metadata": {
        "id": "Q7oIM-EZdVuL"
      },
      "source": [
        "pivot_df_month_SR= df_application.pivot_table(index='Country', columns='Month', values='FunnelStartRate',dropna=True)\n",
        "pivot_df_month_CR=df_application.pivot_table(index='Country', columns='Month', values='ConversionRate',dropna=True)\n",
        "pivot_df_month_AR= df_application.pivot_table(index='Country', columns='Month', values='ApprovalRate', dropna=True)\n",
        "pivot_df_month_WR= df_application.pivot_table(index='Country', columns='Month', values='WriteRate', dropna=True)\n"
      ],
      "execution_count": null,
      "outputs": []
    },
    {
      "cell_type": "code",
      "metadata": {
        "colab": {
          "base_uri": "https://localhost:8080/",
          "height": 731
        },
        "id": "ns63xvh4i7bM",
        "outputId": "81250885-134b-4ae8-f964-955f9efaaa6f"
      },
      "source": [
        "pivot_df_month_SR"
      ],
      "execution_count": null,
      "outputs": [
        {
          "output_type": "execute_result",
          "data": {
            "text/html": [
              "<div>\n",
              "<style scoped>\n",
              "    .dataframe tbody tr th:only-of-type {\n",
              "        vertical-align: middle;\n",
              "    }\n",
              "\n",
              "    .dataframe tbody tr th {\n",
              "        vertical-align: top;\n",
              "    }\n",
              "\n",
              "    .dataframe thead th {\n",
              "        text-align: right;\n",
              "    }\n",
              "</style>\n",
              "<table border=\"1\" class=\"dataframe\">\n",
              "  <thead>\n",
              "    <tr style=\"text-align: right;\">\n",
              "      <th>Month</th>\n",
              "      <th>February</th>\n",
              "      <th>January</th>\n",
              "      <th>March</th>\n",
              "    </tr>\n",
              "    <tr>\n",
              "      <th>Country</th>\n",
              "      <th></th>\n",
              "      <th></th>\n",
              "      <th></th>\n",
              "    </tr>\n",
              "  </thead>\n",
              "  <tbody>\n",
              "    <tr>\n",
              "      <th>Australia</th>\n",
              "      <td>31.307195</td>\n",
              "      <td>30.884370</td>\n",
              "      <td>28.896362</td>\n",
              "    </tr>\n",
              "    <tr>\n",
              "      <th>Brazil</th>\n",
              "      <td>59.012426</td>\n",
              "      <td>61.602273</td>\n",
              "      <td>47.402617</td>\n",
              "    </tr>\n",
              "    <tr>\n",
              "      <th>Bulgaria</th>\n",
              "      <td>22.737165</td>\n",
              "      <td>22.973928</td>\n",
              "      <td>24.387118</td>\n",
              "    </tr>\n",
              "    <tr>\n",
              "      <th>Canada</th>\n",
              "      <td>26.395182</td>\n",
              "      <td>36.232423</td>\n",
              "      <td>36.622216</td>\n",
              "    </tr>\n",
              "    <tr>\n",
              "      <th>Croatia</th>\n",
              "      <td>18.990106</td>\n",
              "      <td>18.948019</td>\n",
              "      <td>21.451745</td>\n",
              "    </tr>\n",
              "    <tr>\n",
              "      <th>Czech Republic</th>\n",
              "      <td>8.205601</td>\n",
              "      <td>8.142557</td>\n",
              "      <td>7.512537</td>\n",
              "    </tr>\n",
              "    <tr>\n",
              "      <th>Denmark</th>\n",
              "      <td>8.815102</td>\n",
              "      <td>13.532161</td>\n",
              "      <td>25.210625</td>\n",
              "    </tr>\n",
              "    <tr>\n",
              "      <th>Estonia</th>\n",
              "      <td>10.324080</td>\n",
              "      <td>10.503194</td>\n",
              "      <td>9.842666</td>\n",
              "    </tr>\n",
              "    <tr>\n",
              "      <th>Finland</th>\n",
              "      <td>11.793417</td>\n",
              "      <td>11.304145</td>\n",
              "      <td>11.874489</td>\n",
              "    </tr>\n",
              "    <tr>\n",
              "      <th>Germany</th>\n",
              "      <td>39.898307</td>\n",
              "      <td>39.001340</td>\n",
              "      <td>38.681413</td>\n",
              "    </tr>\n",
              "    <tr>\n",
              "      <th>Latvia</th>\n",
              "      <td>9.656537</td>\n",
              "      <td>10.351186</td>\n",
              "      <td>9.145425</td>\n",
              "    </tr>\n",
              "    <tr>\n",
              "      <th>Mexico</th>\n",
              "      <td>44.516857</td>\n",
              "      <td>47.777829</td>\n",
              "      <td>45.869027</td>\n",
              "    </tr>\n",
              "    <tr>\n",
              "      <th>New Zealand</th>\n",
              "      <td>90.795898</td>\n",
              "      <td>86.538462</td>\n",
              "      <td>90.784201</td>\n",
              "    </tr>\n",
              "    <tr>\n",
              "      <th>Norway</th>\n",
              "      <td>5.180095</td>\n",
              "      <td>6.116311</td>\n",
              "      <td>13.957467</td>\n",
              "    </tr>\n",
              "    <tr>\n",
              "      <th>Poland</th>\n",
              "      <td>2.845911</td>\n",
              "      <td>2.952386</td>\n",
              "      <td>2.374283</td>\n",
              "    </tr>\n",
              "    <tr>\n",
              "      <th>Romania</th>\n",
              "      <td>17.818478</td>\n",
              "      <td>21.940183</td>\n",
              "      <td>19.827614</td>\n",
              "    </tr>\n",
              "    <tr>\n",
              "      <th>Russia</th>\n",
              "      <td>36.137806</td>\n",
              "      <td>37.585811</td>\n",
              "      <td>2.319342</td>\n",
              "    </tr>\n",
              "    <tr>\n",
              "      <th>Spain</th>\n",
              "      <td>10.140138</td>\n",
              "      <td>11.373016</td>\n",
              "      <td>9.177293</td>\n",
              "    </tr>\n",
              "    <tr>\n",
              "      <th>Sweden</th>\n",
              "      <td>24.621885</td>\n",
              "      <td>23.720558</td>\n",
              "      <td>24.705386</td>\n",
              "    </tr>\n",
              "    <tr>\n",
              "      <th>The Netherlands</th>\n",
              "      <td>17.187232</td>\n",
              "      <td>18.027640</td>\n",
              "      <td>18.083515</td>\n",
              "    </tr>\n",
              "    <tr>\n",
              "      <th>United Kingdom</th>\n",
              "      <td>3.891149</td>\n",
              "      <td>5.494868</td>\n",
              "      <td>2.889441</td>\n",
              "    </tr>\n",
              "  </tbody>\n",
              "</table>\n",
              "</div>"
            ],
            "text/plain": [
              "Month             February    January      March\n",
              "Country                                         \n",
              "Australia        31.307195  30.884370  28.896362\n",
              "Brazil           59.012426  61.602273  47.402617\n",
              "Bulgaria         22.737165  22.973928  24.387118\n",
              "Canada           26.395182  36.232423  36.622216\n",
              "Croatia          18.990106  18.948019  21.451745\n",
              "Czech Republic    8.205601   8.142557   7.512537\n",
              "Denmark           8.815102  13.532161  25.210625\n",
              "Estonia          10.324080  10.503194   9.842666\n",
              "Finland          11.793417  11.304145  11.874489\n",
              "Germany          39.898307  39.001340  38.681413\n",
              "Latvia            9.656537  10.351186   9.145425\n",
              "Mexico           44.516857  47.777829  45.869027\n",
              "New Zealand      90.795898  86.538462  90.784201\n",
              "Norway            5.180095   6.116311  13.957467\n",
              "Poland            2.845911   2.952386   2.374283\n",
              "Romania          17.818478  21.940183  19.827614\n",
              "Russia           36.137806  37.585811   2.319342\n",
              "Spain            10.140138  11.373016   9.177293\n",
              "Sweden           24.621885  23.720558  24.705386\n",
              "The Netherlands  17.187232  18.027640  18.083515\n",
              "United Kingdom    3.891149   5.494868   2.889441"
            ]
          },
          "metadata": {
            "tags": []
          },
          "execution_count": 41
        }
      ]
    },
    {
      "cell_type": "code",
      "metadata": {
        "colab": {
          "base_uri": "https://localhost:8080/",
          "height": 1000
        },
        "id": "sf2hzu-Hh1ZR",
        "outputId": "403b8c3c-5ca3-4891-f293-32a519002192"
      },
      "source": [
        "#pivot_df_month_SR.loc[:,['February', 'January','March']].plot.bar( stacked= True, color=colors,figsize(10,7))\n",
        "\n",
        "fig,([ax1,ax2],[ax3,ax4])= plt.subplots(2,2)\n",
        "fig.set_figheight(15)\n",
        "fig.set_figwidth(25)\n",
        "\n",
        "ax1.set_title('Funnel Start rate')\n",
        "pivot_df_month_SR.plot(kind='bar',stacked=True,ax=ax1);\n",
        "ax2.set_title('Funnel Conversion rate')\n",
        "pivot_df_month_CR.plot(kind='bar',stacked=True,ax=ax2);\n",
        "ax3.set_title('Funnel Write rate rate')\n",
        "\n",
        "pivot_df_month_WR.plot(kind='bar',stacked=True,ax=ax3);\n",
        "ax4.set_title('Funnel Write Approval rate')\n",
        "\n",
        "pivot_df_month_AR.plot(kind='bar',stacked=True,ax=ax4);\n",
        "\n",
        "plt.subplots_adjust(top=1.5)\n",
        "plt.show()\n"
      ],
      "execution_count": null,
      "outputs": [
        {
          "output_type": "stream",
          "text": [
            "/usr/local/lib/python3.7/dist-packages/matplotlib/transforms.py:416: RuntimeWarning: invalid value encountered in double_scalars\n",
            "  return (x0, y0, x1 - x0, y1 - y0)\n"
          ],
          "name": "stderr"
        },
        {
          "output_type": "display_data",
          "data": {
            "image/png": "[encoded data removed]",
            "text/plain": [
              "<Figure size 1800x1080 with 4 Axes>"
            ]
          },
          "metadata": {
            "tags": [],
            "needs_background": "light"
          }
        }
      ]
    },
    {
      "cell_type": "markdown",
      "metadata": {
        "id": "T395kx0Ne_hT"
      },
      "source": [
        "# Create a visualization to see Group (all countries aggregated) trend over Q1 for those rates, and \\# of Paid Out Loans."
      ]
    },
    {
      "cell_type": "code",
      "metadata": {
        "colab": {
          "base_uri": "https://localhost:8080/",
          "height": 224
        },
        "id": "m7NxYIxsfGpT",
        "outputId": "bc563f31-69be-46b2-9c08-7076774205d7"
      },
      "source": [
        "df_application_agg=df_application.copy()\n",
        "df_application_agg=df_application_agg.groupby(['Country']).sum().reset_index()\n",
        "\n",
        "df_application_agg['FunnelStartRate']= (df_application_agg['StartedApplications']/ df_application_agg['Sessions']) * 100\n",
        "#Conversion rate\n",
        "df_application_agg['ConversionRate']= (df_application_agg['FinishedApps']/ df_application_agg['StartedApplications']) * 100\n",
        "#Approval rate\n",
        "df_application_agg['ApprovalRate']= (df_application_agg['Approved']/df_application_agg['FinishedApps']) *100\n",
        "\n",
        "# Write Rate\n",
        "df_application_agg['WriteRate']= (df_application_agg['PaidOut']/ df_application_agg['Approved']) *100\n",
        "#Displaying the above calculated values\n",
        "df_application_agg.head()"
      ],
      "execution_count": null,
      "outputs": [
        {
          "output_type": "execute_result",
          "data": {
            "text/html": [
              "<div>\n",
              "<style scoped>\n",
              "    .dataframe tbody tr th:only-of-type {\n",
              "        vertical-align: middle;\n",
              "    }\n",
              "\n",
              "    .dataframe tbody tr th {\n",
              "        vertical-align: top;\n",
              "    }\n",
              "\n",
              "    .dataframe thead th {\n",
              "        text-align: right;\n",
              "    }\n",
              "</style>\n",
              "<table border=\"1\" class=\"dataframe\">\n",
              "  <thead>\n",
              "    <tr style=\"text-align: right;\">\n",
              "      <th></th>\n",
              "      <th>Country</th>\n",
              "      <th>Sessions</th>\n",
              "      <th>StartedApplications</th>\n",
              "      <th>FinishedApps</th>\n",
              "      <th>Approved</th>\n",
              "      <th>PaidOut</th>\n",
              "      <th>FunnelStartRate</th>\n",
              "      <th>ConversionRate</th>\n",
              "      <th>ApprovalRate</th>\n",
              "      <th>WriteRate</th>\n",
              "    </tr>\n",
              "  </thead>\n",
              "  <tbody>\n",
              "    <tr>\n",
              "      <th>0</th>\n",
              "      <td>Australia</td>\n",
              "      <td>234133.0</td>\n",
              "      <td>71338.0</td>\n",
              "      <td>27255</td>\n",
              "      <td>1515.0</td>\n",
              "      <td>1486.0</td>\n",
              "      <td>30.469007</td>\n",
              "      <td>38.205445</td>\n",
              "      <td>5.558613</td>\n",
              "      <td>98.085809</td>\n",
              "    </tr>\n",
              "    <tr>\n",
              "      <th>1</th>\n",
              "      <td>Brazil</td>\n",
              "      <td>468053.0</td>\n",
              "      <td>274381.0</td>\n",
              "      <td>36177</td>\n",
              "      <td>2323.0</td>\n",
              "      <td>1200.0</td>\n",
              "      <td>58.621780</td>\n",
              "      <td>13.184951</td>\n",
              "      <td>6.421207</td>\n",
              "      <td>51.657340</td>\n",
              "    </tr>\n",
              "    <tr>\n",
              "      <th>2</th>\n",
              "      <td>Bulgaria</td>\n",
              "      <td>238303.0</td>\n",
              "      <td>55402.0</td>\n",
              "      <td>13490</td>\n",
              "      <td>2500.0</td>\n",
              "      <td>1996.0</td>\n",
              "      <td>23.248553</td>\n",
              "      <td>24.349301</td>\n",
              "      <td>18.532246</td>\n",
              "      <td>79.840000</td>\n",
              "    </tr>\n",
              "    <tr>\n",
              "      <th>3</th>\n",
              "      <td>Canada</td>\n",
              "      <td>47676.0</td>\n",
              "      <td>15614.0</td>\n",
              "      <td>5932</td>\n",
              "      <td>240.0</td>\n",
              "      <td>239.0</td>\n",
              "      <td>32.750231</td>\n",
              "      <td>37.991546</td>\n",
              "      <td>4.045853</td>\n",
              "      <td>99.583333</td>\n",
              "    </tr>\n",
              "    <tr>\n",
              "      <th>4</th>\n",
              "      <td>Croatia</td>\n",
              "      <td>210653.0</td>\n",
              "      <td>41228.0</td>\n",
              "      <td>7068</td>\n",
              "      <td>1346.0</td>\n",
              "      <td>1352.0</td>\n",
              "      <td>19.571523</td>\n",
              "      <td>17.143689</td>\n",
              "      <td>19.043577</td>\n",
              "      <td>100.445765</td>\n",
              "    </tr>\n",
              "  </tbody>\n",
              "</table>\n",
              "</div>"
            ],
            "text/plain": [
              "     Country  Sessions  ...  ApprovalRate   WriteRate\n",
              "0  Australia  234133.0  ...      5.558613   98.085809\n",
              "1     Brazil  468053.0  ...      6.421207   51.657340\n",
              "2   Bulgaria  238303.0  ...     18.532246   79.840000\n",
              "3     Canada   47676.0  ...      4.045853   99.583333\n",
              "4    Croatia  210653.0  ...     19.043577  100.445765\n",
              "\n",
              "[5 rows x 10 columns]"
            ]
          },
          "metadata": {
            "tags": []
          },
          "execution_count": 21
        }
      ]
    },
    {
      "cell_type": "markdown",
      "metadata": {
        "id": "ioFQJh2kWPKh"
      },
      "source": [
        "# visualization "
      ]
    },
    {
      "cell_type": "code",
      "metadata": {
        "colab": {
          "base_uri": "https://localhost:8080/",
          "height": 1000
        },
        "id": "OUs5hiJt81Kd",
        "outputId": "165188fc-d87e-43b1-f01d-5ade499d6d69"
      },
      "source": [
        "fig,([ax1,ax2],[ax3,ax4])= plt.subplots(2,2)\n",
        "fig.set_figheight(8)\n",
        "fig.set_figwidth(15)\n",
        "\n",
        "ax1.set_title('Funnel Start rate')\n",
        "sns.lineplot(data= df_application_agg, x= 'Country', y='FunnelStartRate',ax=ax1 )\n",
        "ax2.set_title('Conversion Rate')\n",
        "sns.lineplot(data= df_application_agg, x= 'Country', y='ConversionRate',ax=ax2 )\n",
        "ax3.set_title('Aproval Rate')\n",
        "sns.lineplot(data= df_application_agg, x= 'Country', y='ApprovalRate',ax=ax3 )\n",
        "ax4.set_title('WriteRate')\n",
        "sns.lineplot(data= df_application_agg, x= 'Country', y='WriteRate',ax=ax4 )\n",
        "\n",
        "plt.subplots_adjust(top=2.5)\n",
        "\n",
        "for labels in ax1.get_xticklabels() + ax2.get_xticklabels() + ax3.get_xticklabels() + ax4.get_xticklabels():\n",
        "  labels.set_rotation(90)\n"
      ],
      "execution_count": null,
      "outputs": [
        {
          "output_type": "display_data",
          "data": {
            "image/png": "[encoded data removed]",
            "text/plain": [
              "<Figure size 1080x576 with 4 Axes>"
            ]
          },
          "metadata": {
            "tags": [],
            "needs_background": "light"
          }
        }
      ]
    },
    {
      "cell_type": "markdown",
      "metadata": {
        "id": "Hke1jdMxtTz2"
      },
      "source": [
        "# Are there visible anomalies in the data? Where? What could be the cause?\n",
        "\n",
        "Since these vairables represents levels of funnel, therefore, lower level value should not be greater than top funnel stage. We will check this case using the helper function."
      ]
    },
    {
      "cell_type": "code",
      "metadata": {
        "colab": {
          "base_uri": "https://localhost:8080/",
          "height": 224
        },
        "id": "Wf-fNKFMw9pC",
        "outputId": "72e848dd-7973-4c6c-8a48-a632ee68651e"
      },
      "source": [
        "df= df_application.copy()\n",
        "df=df.groupby(['Country']).sum().reset_index()\n",
        "df.head()"
      ],
      "execution_count": null,
      "outputs": [
        {
          "output_type": "execute_result",
          "data": {
            "text/html": [
              "<div>\n",
              "<style scoped>\n",
              "    .dataframe tbody tr th:only-of-type {\n",
              "        vertical-align: middle;\n",
              "    }\n",
              "\n",
              "    .dataframe tbody tr th {\n",
              "        vertical-align: top;\n",
              "    }\n",
              "\n",
              "    .dataframe thead th {\n",
              "        text-align: right;\n",
              "    }\n",
              "</style>\n",
              "<table border=\"1\" class=\"dataframe\">\n",
              "  <thead>\n",
              "    <tr style=\"text-align: right;\">\n",
              "      <th></th>\n",
              "      <th>Country</th>\n",
              "      <th>Sessions</th>\n",
              "      <th>StartedApplications</th>\n",
              "      <th>FinishedApps</th>\n",
              "      <th>Approved</th>\n",
              "      <th>PaidOut</th>\n",
              "      <th>FunnelStartRate</th>\n",
              "      <th>ConversionRate</th>\n",
              "      <th>ApprovalRate</th>\n",
              "      <th>WriteRate</th>\n",
              "    </tr>\n",
              "  </thead>\n",
              "  <tbody>\n",
              "    <tr>\n",
              "      <th>0</th>\n",
              "      <td>Australia</td>\n",
              "      <td>234133.0</td>\n",
              "      <td>71338.0</td>\n",
              "      <td>27255</td>\n",
              "      <td>1515.0</td>\n",
              "      <td>1486.0</td>\n",
              "      <td>91.087927</td>\n",
              "      <td>115.169043</td>\n",
              "      <td>16.828135</td>\n",
              "      <td>294.296482</td>\n",
              "    </tr>\n",
              "    <tr>\n",
              "      <th>1</th>\n",
              "      <td>Brazil</td>\n",
              "      <td>468053.0</td>\n",
              "      <td>274381.0</td>\n",
              "      <td>36177</td>\n",
              "      <td>2323.0</td>\n",
              "      <td>1200.0</td>\n",
              "      <td>168.017316</td>\n",
              "      <td>48.588709</td>\n",
              "      <td>18.307883</td>\n",
              "      <td>156.975394</td>\n",
              "    </tr>\n",
              "    <tr>\n",
              "      <th>2</th>\n",
              "      <td>Bulgaria</td>\n",
              "      <td>238303.0</td>\n",
              "      <td>55402.0</td>\n",
              "      <td>13490</td>\n",
              "      <td>2500.0</td>\n",
              "      <td>1996.0</td>\n",
              "      <td>70.098210</td>\n",
              "      <td>72.791430</td>\n",
              "      <td>56.010924</td>\n",
              "      <td>239.321554</td>\n",
              "    </tr>\n",
              "    <tr>\n",
              "      <th>3</th>\n",
              "      <td>Canada</td>\n",
              "      <td>47676.0</td>\n",
              "      <td>15614.0</td>\n",
              "      <td>5932</td>\n",
              "      <td>240.0</td>\n",
              "      <td>239.0</td>\n",
              "      <td>99.249821</td>\n",
              "      <td>114.167728</td>\n",
              "      <td>12.148329</td>\n",
              "      <td>298.591549</td>\n",
              "    </tr>\n",
              "    <tr>\n",
              "      <th>4</th>\n",
              "      <td>Croatia</td>\n",
              "      <td>210653.0</td>\n",
              "      <td>41228.0</td>\n",
              "      <td>7068</td>\n",
              "      <td>1346.0</td>\n",
              "      <td>1352.0</td>\n",
              "      <td>59.389870</td>\n",
              "      <td>51.414085</td>\n",
              "      <td>57.479713</td>\n",
              "      <td>301.290978</td>\n",
              "    </tr>\n",
              "  </tbody>\n",
              "</table>\n",
              "</div>"
            ],
            "text/plain": [
              "     Country  Sessions  ...  ApprovalRate   WriteRate\n",
              "0  Australia  234133.0  ...     16.828135  294.296482\n",
              "1     Brazil  468053.0  ...     18.307883  156.975394\n",
              "2   Bulgaria  238303.0  ...     56.010924  239.321554\n",
              "3     Canada   47676.0  ...     12.148329  298.591549\n",
              "4    Croatia  210653.0  ...     57.479713  301.290978\n",
              "\n",
              "[5 rows x 10 columns]"
            ]
          },
          "metadata": {
            "tags": []
          },
          "execution_count": 23
        }
      ]
    },
    {
      "cell_type": "code",
      "metadata": {
        "colab": {
          "base_uri": "https://localhost:8080/"
        },
        "id": "cBW9fUjAyQSj",
        "outputId": "fe286158-a6b9-400d-851d-ad6eaeaa70e0"
      },
      "source": [
        "df['FunnelValueChecks']= np.where(((df.Sessions>df.StartedApplications) & (df.StartedApplications> df.FinishedApps) & \n",
        "                                   (df.FinishedApps>df.Approved) &(df.Approved >df.PaidOut)\n",
        "                                                ), 'True', 'False')\n",
        "\n",
        "\n",
        "print(df[['Country','FunnelValueChecks']])"
      ],
      "execution_count": null,
      "outputs": [
        {
          "output_type": "stream",
          "text": [
            "            Country FunnelValueChecks\n",
            "0         Australia              True\n",
            "1            Brazil              True\n",
            "2          Bulgaria              True\n",
            "3            Canada              True\n",
            "4           Croatia             False\n",
            "5    Czech Republic              True\n",
            "6           Denmark              True\n",
            "7           Estonia              True\n",
            "8           Finland              True\n",
            "9           Germany              True\n",
            "10           Latvia              True\n",
            "11           Mexico             False\n",
            "12      New Zealand              True\n",
            "13          Nigeria             False\n",
            "14           Norway              True\n",
            "15           Poland             False\n",
            "16          Romania              True\n",
            "17           Russia              True\n",
            "18            Spain             False\n",
            "19           Sweden              True\n",
            "20  The Netherlands              True\n",
            "21   United Kingdom             False\n"
          ],
          "name": "stdout"
        }
      ]
    },
    {
      "cell_type": "markdown",
      "metadata": {
        "id": "VlcjyTZWW-j7"
      },
      "source": [
        "Let's print all the rows who have FunnelValueChecks= False. As per the assumption taken below countries i.e., Croatia, Mexico, Nigeria, Poland, Spain, and United Kingdom have anamoloies. "
      ]
    },
    {
      "cell_type": "code",
      "metadata": {
        "colab": {
          "base_uri": "https://localhost:8080/",
          "height": 272
        },
        "id": "yKD4L268yYwx",
        "outputId": "0b27eafc-a626-44b7-b184-a5061e814692"
      },
      "source": [
        "df[df['FunnelValueChecks']== 'False']"
      ],
      "execution_count": null,
      "outputs": [
        {
          "output_type": "execute_result",
          "data": {
            "text/html": [
              "<div>\n",
              "<style scoped>\n",
              "    .dataframe tbody tr th:only-of-type {\n",
              "        vertical-align: middle;\n",
              "    }\n",
              "\n",
              "    .dataframe tbody tr th {\n",
              "        vertical-align: top;\n",
              "    }\n",
              "\n",
              "    .dataframe thead th {\n",
              "        text-align: right;\n",
              "    }\n",
              "</style>\n",
              "<table border=\"1\" class=\"dataframe\">\n",
              "  <thead>\n",
              "    <tr style=\"text-align: right;\">\n",
              "      <th></th>\n",
              "      <th>Country</th>\n",
              "      <th>Sessions</th>\n",
              "      <th>StartedApplications</th>\n",
              "      <th>FinishedApps</th>\n",
              "      <th>Approved</th>\n",
              "      <th>PaidOut</th>\n",
              "      <th>FunnelStartRate</th>\n",
              "      <th>ConversionRate</th>\n",
              "      <th>ApprovalRate</th>\n",
              "      <th>WriteRate</th>\n",
              "      <th>FunnelValueChecks</th>\n",
              "    </tr>\n",
              "  </thead>\n",
              "  <tbody>\n",
              "    <tr>\n",
              "      <th>4</th>\n",
              "      <td>Croatia</td>\n",
              "      <td>210653.0</td>\n",
              "      <td>41228.0</td>\n",
              "      <td>7068</td>\n",
              "      <td>1346.0</td>\n",
              "      <td>1352.0</td>\n",
              "      <td>59.389870</td>\n",
              "      <td>51.414085</td>\n",
              "      <td>57.479713</td>\n",
              "      <td>301.290978</td>\n",
              "      <td>False</td>\n",
              "    </tr>\n",
              "    <tr>\n",
              "      <th>11</th>\n",
              "      <td>Mexico</td>\n",
              "      <td>149521.0</td>\n",
              "      <td>69130.0</td>\n",
              "      <td>22395</td>\n",
              "      <td>37.0</td>\n",
              "      <td>37.0</td>\n",
              "      <td>138.163712</td>\n",
              "      <td>101.332420</td>\n",
              "      <td>0.495889</td>\n",
              "      <td>300.000000</td>\n",
              "      <td>False</td>\n",
              "    </tr>\n",
              "    <tr>\n",
              "      <th>13</th>\n",
              "      <td>Nigeria</td>\n",
              "      <td>0.0</td>\n",
              "      <td>0.0</td>\n",
              "      <td>224348</td>\n",
              "      <td>15.0</td>\n",
              "      <td>7.0</td>\n",
              "      <td>0.000000</td>\n",
              "      <td>inf</td>\n",
              "      <td>0.020338</td>\n",
              "      <td>131.666667</td>\n",
              "      <td>False</td>\n",
              "    </tr>\n",
              "    <tr>\n",
              "      <th>15</th>\n",
              "      <td>Poland</td>\n",
              "      <td>759941.0</td>\n",
              "      <td>20799.0</td>\n",
              "      <td>46353</td>\n",
              "      <td>14393.0</td>\n",
              "      <td>9544.0</td>\n",
              "      <td>8.172580</td>\n",
              "      <td>671.531876</td>\n",
              "      <td>93.412910</td>\n",
              "      <td>198.297770</td>\n",
              "      <td>False</td>\n",
              "    </tr>\n",
              "    <tr>\n",
              "      <th>18</th>\n",
              "      <td>Spain</td>\n",
              "      <td>491043.0</td>\n",
              "      <td>50518.0</td>\n",
              "      <td>62554</td>\n",
              "      <td>2552.0</td>\n",
              "      <td>2549.0</td>\n",
              "      <td>30.690446</td>\n",
              "      <td>374.536850</td>\n",
              "      <td>12.286548</td>\n",
              "      <td>299.669252</td>\n",
              "      <td>False</td>\n",
              "    </tr>\n",
              "    <tr>\n",
              "      <th>21</th>\n",
              "      <td>United Kingdom</td>\n",
              "      <td>355263.0</td>\n",
              "      <td>14893.0</td>\n",
              "      <td>35023</td>\n",
              "      <td>829.0</td>\n",
              "      <td>825.0</td>\n",
              "      <td>12.275458</td>\n",
              "      <td>793.460542</td>\n",
              "      <td>7.068950</td>\n",
              "      <td>298.257037</td>\n",
              "      <td>False</td>\n",
              "    </tr>\n",
              "  </tbody>\n",
              "</table>\n",
              "</div>"
            ],
            "text/plain": [
              "           Country  Sessions  ...   WriteRate  FunnelValueChecks\n",
              "4          Croatia  210653.0  ...  301.290978              False\n",
              "11          Mexico  149521.0  ...  300.000000              False\n",
              "13         Nigeria       0.0  ...  131.666667              False\n",
              "15          Poland  759941.0  ...  198.297770              False\n",
              "18           Spain  491043.0  ...  299.669252              False\n",
              "21  United Kingdom  355263.0  ...  298.257037              False\n",
              "\n",
              "[6 rows x 11 columns]"
            ]
          },
          "metadata": {
            "tags": []
          },
          "execution_count": 25
        }
      ]
    },
    {
      "cell_type": "markdown",
      "metadata": {
        "id": "xRteVSaNe-EG"
      },
      "source": [
        "#  If you could double the marketing investment in a given country (and assuming that would correlate to double the \\# of Sessions), which country would you choose to maximize \\# of paid outs, assuming other rates stay the same?"
      ]
    },
    {
      "cell_type": "markdown",
      "metadata": {
        "id": "lueFr-_8fVwQ"
      },
      "source": [
        "In order to answer this let's calculate the rate of session to number of paid outs."
      ]
    },
    {
      "cell_type": "code",
      "metadata": {
        "colab": {
          "base_uri": "https://localhost:8080/",
          "height": 731
        },
        "id": "OCQSDdX2XWFc",
        "outputId": "3c72e549-762a-4a51-f15e-741c80d38c6d"
      },
      "source": [
        "df_ratePaidOuts= df.copy()\n",
        "df_ratePaidOuts['Session2PaidOut']= (df_ratePaidOuts['PaidOut']/ df_ratePaidOuts['Sessions']) *100\n",
        "df_ratePaidOuts[['Country','Session2PaidOut']]"
      ],
      "execution_count": null,
      "outputs": [
        {
          "output_type": "execute_result",
          "data": {
            "text/html": [
              "<div>\n",
              "<style scoped>\n",
              "    .dataframe tbody tr th:only-of-type {\n",
              "        vertical-align: middle;\n",
              "    }\n",
              "\n",
              "    .dataframe tbody tr th {\n",
              "        vertical-align: top;\n",
              "    }\n",
              "\n",
              "    .dataframe thead th {\n",
              "        text-align: right;\n",
              "    }\n",
              "</style>\n",
              "<table border=\"1\" class=\"dataframe\">\n",
              "  <thead>\n",
              "    <tr style=\"text-align: right;\">\n",
              "      <th></th>\n",
              "      <th>Country</th>\n",
              "      <th>Session2PaidOut</th>\n",
              "    </tr>\n",
              "  </thead>\n",
              "  <tbody>\n",
              "    <tr>\n",
              "      <th>0</th>\n",
              "      <td>Australia</td>\n",
              "      <td>0.634682</td>\n",
              "    </tr>\n",
              "    <tr>\n",
              "      <th>1</th>\n",
              "      <td>Brazil</td>\n",
              "      <td>0.256381</td>\n",
              "    </tr>\n",
              "    <tr>\n",
              "      <th>2</th>\n",
              "      <td>Bulgaria</td>\n",
              "      <td>0.837589</td>\n",
              "    </tr>\n",
              "    <tr>\n",
              "      <th>3</th>\n",
              "      <td>Canada</td>\n",
              "      <td>0.501300</td>\n",
              "    </tr>\n",
              "    <tr>\n",
              "      <th>4</th>\n",
              "      <td>Croatia</td>\n",
              "      <td>0.641814</td>\n",
              "    </tr>\n",
              "    <tr>\n",
              "      <th>5</th>\n",
              "      <td>Czech Republic</td>\n",
              "      <td>0.341968</td>\n",
              "    </tr>\n",
              "    <tr>\n",
              "      <th>6</th>\n",
              "      <td>Denmark</td>\n",
              "      <td>1.419892</td>\n",
              "    </tr>\n",
              "    <tr>\n",
              "      <th>7</th>\n",
              "      <td>Estonia</td>\n",
              "      <td>0.591586</td>\n",
              "    </tr>\n",
              "    <tr>\n",
              "      <th>8</th>\n",
              "      <td>Finland</td>\n",
              "      <td>1.225066</td>\n",
              "    </tr>\n",
              "    <tr>\n",
              "      <th>9</th>\n",
              "      <td>Germany</td>\n",
              "      <td>0.931843</td>\n",
              "    </tr>\n",
              "    <tr>\n",
              "      <th>10</th>\n",
              "      <td>Latvia</td>\n",
              "      <td>1.126147</td>\n",
              "    </tr>\n",
              "    <tr>\n",
              "      <th>11</th>\n",
              "      <td>Mexico</td>\n",
              "      <td>0.024746</td>\n",
              "    </tr>\n",
              "    <tr>\n",
              "      <th>12</th>\n",
              "      <td>New Zealand</td>\n",
              "      <td>3.582979</td>\n",
              "    </tr>\n",
              "    <tr>\n",
              "      <th>13</th>\n",
              "      <td>Nigeria</td>\n",
              "      <td>inf</td>\n",
              "    </tr>\n",
              "    <tr>\n",
              "      <th>14</th>\n",
              "      <td>Norway</td>\n",
              "      <td>1.815172</td>\n",
              "    </tr>\n",
              "    <tr>\n",
              "      <th>15</th>\n",
              "      <td>Poland</td>\n",
              "      <td>1.255887</td>\n",
              "    </tr>\n",
              "    <tr>\n",
              "      <th>16</th>\n",
              "      <td>Romania</td>\n",
              "      <td>0.396063</td>\n",
              "    </tr>\n",
              "    <tr>\n",
              "      <th>17</th>\n",
              "      <td>Russia</td>\n",
              "      <td>0.067417</td>\n",
              "    </tr>\n",
              "    <tr>\n",
              "      <th>18</th>\n",
              "      <td>Spain</td>\n",
              "      <td>0.519099</td>\n",
              "    </tr>\n",
              "    <tr>\n",
              "      <th>19</th>\n",
              "      <td>Sweden</td>\n",
              "      <td>1.201436</td>\n",
              "    </tr>\n",
              "    <tr>\n",
              "      <th>20</th>\n",
              "      <td>The Netherlands</td>\n",
              "      <td>1.073733</td>\n",
              "    </tr>\n",
              "    <tr>\n",
              "      <th>21</th>\n",
              "      <td>United Kingdom</td>\n",
              "      <td>0.232222</td>\n",
              "    </tr>\n",
              "  </tbody>\n",
              "</table>\n",
              "</div>"
            ],
            "text/plain": [
              "            Country  Session2PaidOut\n",
              "0         Australia         0.634682\n",
              "1            Brazil         0.256381\n",
              "2          Bulgaria         0.837589\n",
              "3            Canada         0.501300\n",
              "4           Croatia         0.641814\n",
              "5    Czech Republic         0.341968\n",
              "6           Denmark         1.419892\n",
              "7           Estonia         0.591586\n",
              "8           Finland         1.225066\n",
              "9           Germany         0.931843\n",
              "10           Latvia         1.126147\n",
              "11           Mexico         0.024746\n",
              "12      New Zealand         3.582979\n",
              "13          Nigeria              inf\n",
              "14           Norway         1.815172\n",
              "15           Poland         1.255887\n",
              "16          Romania         0.396063\n",
              "17           Russia         0.067417\n",
              "18            Spain         0.519099\n",
              "19           Sweden         1.201436\n",
              "20  The Netherlands         1.073733\n",
              "21   United Kingdom         0.232222"
            ]
          },
          "metadata": {
            "tags": []
          },
          "execution_count": 27
        }
      ]
    },
    {
      "cell_type": "markdown",
      "metadata": {
        "id": "j6clf9ByhnrH"
      },
      "source": [
        "In my opinion, all the countries that have rate higher than 1 from the above table have the potential to grow."
      ]
    },
    {
      "cell_type": "markdown",
      "metadata": {
        "id": "ALUXBOIZiAr0"
      },
      "source": [
        "# What variable(s) would you add to this data to be able to have a better view of a countries' marketing effectiveness?\n",
        "\n",
        "There is good scope to introduce variable `Country Region` which can group the cpuntries based on Asia, Americas, Africa, Europe and Middle East regions."
      ]
    },
    {
      "cell_type": "markdown",
      "metadata": {
        "id": "Zyg049cFjuRC"
      },
      "source": [
        "\n",
        "\n",
        "---\n",
        "\n",
        "\n",
        "\n",
        "---\n",
        "\n",
        "\n",
        "# Task 2 - Campaign Data"
      ]
    },
    {
      "cell_type": "code",
      "metadata": {
        "id": "3gZ-MdlaghmJ"
      },
      "source": [
        "df_camp = pd.read_csv ('/content/drive/MyDrive/Jovian/Ferratum_CRM/data_q2.csv')"
      ],
      "execution_count": 5,
      "outputs": []
    },
    {
      "cell_type": "code",
      "metadata": {
        "colab": {
          "base_uri": "https://localhost:8080/",
          "height": 204
        },
        "id": "ut7iBPsakvcQ",
        "outputId": "d1bb40e2-107c-414f-9bdd-fb40ca8bb59a"
      },
      "source": [
        "df_camp.head()"
      ],
      "execution_count": 14,
      "outputs": [
        {
          "output_type": "execute_result",
          "data": {
            "text/html": [
              "<div>\n",
              "<style scoped>\n",
              "    .dataframe tbody tr th:only-of-type {\n",
              "        vertical-align: middle;\n",
              "    }\n",
              "\n",
              "    .dataframe tbody tr th {\n",
              "        vertical-align: top;\n",
              "    }\n",
              "\n",
              "    .dataframe thead th {\n",
              "        text-align: right;\n",
              "    }\n",
              "</style>\n",
              "<table border=\"1\" class=\"dataframe\">\n",
              "  <thead>\n",
              "    <tr style=\"text-align: right;\">\n",
              "      <th></th>\n",
              "      <th>Month of Year</th>\n",
              "      <th>Campaign Name</th>\n",
              "      <th>Sends</th>\n",
              "      <th>Open</th>\n",
              "      <th>Click</th>\n",
              "      <th>Applied Customers</th>\n",
              "    </tr>\n",
              "  </thead>\n",
              "  <tbody>\n",
              "    <tr>\n",
              "      <th>0</th>\n",
              "      <td>201901</td>\n",
              "      <td>CL Promo</td>\n",
              "      <td>80</td>\n",
              "      <td>13</td>\n",
              "      <td>5</td>\n",
              "      <td>1</td>\n",
              "    </tr>\n",
              "    <tr>\n",
              "      <th>1</th>\n",
              "      <td>201901</td>\n",
              "      <td>CL Promo</td>\n",
              "      <td>126</td>\n",
              "      <td>13</td>\n",
              "      <td>5</td>\n",
              "      <td>1</td>\n",
              "    </tr>\n",
              "    <tr>\n",
              "      <th>2</th>\n",
              "      <td>201901</td>\n",
              "      <td>CL Promo</td>\n",
              "      <td>32</td>\n",
              "      <td>7</td>\n",
              "      <td>3</td>\n",
              "      <td>0</td>\n",
              "    </tr>\n",
              "    <tr>\n",
              "      <th>3</th>\n",
              "      <td>201901</td>\n",
              "      <td>CL Promo</td>\n",
              "      <td>28</td>\n",
              "      <td>4</td>\n",
              "      <td>2</td>\n",
              "      <td>0</td>\n",
              "    </tr>\n",
              "    <tr>\n",
              "      <th>4</th>\n",
              "      <td>201901</td>\n",
              "      <td>Churn prevention</td>\n",
              "      <td>66</td>\n",
              "      <td>13</td>\n",
              "      <td>5</td>\n",
              "      <td>1</td>\n",
              "    </tr>\n",
              "  </tbody>\n",
              "</table>\n",
              "</div>"
            ],
            "text/plain": [
              "   Month of Year     Campaign Name  Sends  Open  Click  Applied Customers\n",
              "0         201901          CL Promo     80    13      5                  1\n",
              "1         201901          CL Promo    126    13      5                  1\n",
              "2         201901          CL Promo     32     7      3                  0\n",
              "3         201901          CL Promo     28     4      2                  0\n",
              "4         201901  Churn prevention     66    13      5                  1"
            ]
          },
          "metadata": {
            "tags": []
          },
          "execution_count": 14
        }
      ]
    },
    {
      "cell_type": "code",
      "metadata": {
        "colab": {
          "base_uri": "https://localhost:8080/"
        },
        "id": "iLTKbjDBg7Vf",
        "outputId": "9cc925d1-a4de-4157-bdd2-388cf39778b2"
      },
      "source": [
        "df_camp.info()"
      ],
      "execution_count": 7,
      "outputs": [
        {
          "output_type": "stream",
          "text": [
            "<class 'pandas.core.frame.DataFrame'>\n",
            "RangeIndex: 368 entries, 0 to 367\n",
            "Data columns (total 6 columns):\n",
            " #   Column             Non-Null Count  Dtype \n",
            "---  ------             --------------  ----- \n",
            " 0   Month of Year      368 non-null    int64 \n",
            " 1   Campaign Name      368 non-null    object\n",
            " 2   Sends              368 non-null    int64 \n",
            " 3   Open               368 non-null    int64 \n",
            " 4   Click              368 non-null    int64 \n",
            " 5   Applied Customers  368 non-null    int64 \n",
            "dtypes: int64(5), object(1)\n",
            "memory usage: 17.4+ KB\n"
          ],
          "name": "stdout"
        }
      ]
    },
    {
      "cell_type": "markdown",
      "metadata": {
        "id": "AZOohM01hQAS"
      },
      "source": [
        "Correlation Matrix"
      ]
    },
    {
      "cell_type": "code",
      "metadata": {
        "colab": {
          "base_uri": "https://localhost:8080/",
          "height": 315
        },
        "id": "CUxStmkGhO-L",
        "outputId": "21f22acb-0793-46a0-cc3c-c6abf1350f2d"
      },
      "source": [
        "g= sns.heatmap(df_camp[['Sends','Open','Click','Applied Customers']].corr(), annot=True, fmt='.2f', cmap='coolwarm')"
      ],
      "execution_count": 8,
      "outputs": [
        {
          "output_type": "display_data",
          "data": {
            "image/png": "[encoded data removed]",
            "text/plain": [
              "<Figure size 432x288 with 2 Axes>"
            ]
          },
          "metadata": {
            "tags": [],
            "needs_background": "light"
          }
        }
      ]
    },
    {
      "cell_type": "code",
      "metadata": {
        "colab": {
          "base_uri": "https://localhost:8080/"
        },
        "id": "7-SslkkmjVJv",
        "outputId": "6b27f9f5-e9c0-425f-ab75-9f785f2e0f02"
      },
      "source": [
        "d=df_camp['Campaign Name'].unique()\n",
        "print (len(d))"
      ],
      "execution_count": 13,
      "outputs": [
        {
          "output_type": "stream",
          "text": [
            "20\n"
          ],
          "name": "stdout"
        }
      ]
    },
    {
      "cell_type": "markdown",
      "metadata": {
        "id": "XYF9MtNukZ0W"
      },
      "source": [
        "Here, we see that there are 20 different campaigns for xyz compnay"
      ]
    },
    {
      "cell_type": "code",
      "metadata": {
        "colab": {
          "base_uri": "https://localhost:8080/"
        },
        "id": "mBA-KbuV-a_C",
        "outputId": "9e80407b-6ca0-4e68-958b-f9d6ede76831"
      },
      "source": [
        "df_camp.dtypes"
      ],
      "execution_count": null,
      "outputs": [
        {
          "output_type": "execute_result",
          "data": {
            "text/plain": [
              "Month of Year         int64\n",
              "Campaign Name        object\n",
              "Sends                 int64\n",
              "Open                  int64\n",
              "Click                 int64\n",
              "Applied Customers     int64\n",
              "dtype: object"
            ]
          },
          "metadata": {
            "tags": []
          },
          "execution_count": 51
        }
      ]
    },
    {
      "cell_type": "code",
      "metadata": {
        "id": "3usqtZDfRZrZ"
      },
      "source": [
        "'''\n",
        "df_camp['Month of Year'] = pd.to_datetime(df_camp['Month of Year'], format='%Y%m')\n",
        "\n",
        "df_camp['Month of Year']=df_camp['Month of Year'].dt.strftime('%Y%m')\n",
        "df_camp['Month of Year']= pd.to_datetime(df_camp['Month of Year'])\n",
        "df_camp['Month of Year']\n",
        "'''"
      ],
      "execution_count": null,
      "outputs": []
    },
    {
      "cell_type": "code",
      "metadata": {
        "colab": {
          "base_uri": "https://localhost:8080/",
          "height": 359
        },
        "id": "Y_TRJsw9-ws6",
        "outputId": "7585bdfa-89cc-45a2-9edf-d26560dd1dca"
      },
      "source": [
        "from datetime import datetime as dt\n",
        "df_camp['Month of Year']= df_camp['Month of Year'].astype(str)\n",
        "# applying lambda function which will \n",
        "df_camp['Date']= df_camp['Month of Year'].apply(lambda x: dt.strptime(x, '%Y%m'))\n",
        "df_camp.drop('Month of Year', axis=1, inplace=True)\n",
        "df_camp.head(10)\n",
        " #dt.strptime(df_camp['Month of Year'], '%Y%m').date()\n",
        "#train['date1'] = train['ID'].apply(lambda x: datetime.strptime(x, '%Y%m%d%H'))\n"
      ],
      "execution_count": 15,
      "outputs": [
        {
          "output_type": "execute_result",
          "data": {
            "text/html": [
              "<div>\n",
              "<style scoped>\n",
              "    .dataframe tbody tr th:only-of-type {\n",
              "        vertical-align: middle;\n",
              "    }\n",
              "\n",
              "    .dataframe tbody tr th {\n",
              "        vertical-align: top;\n",
              "    }\n",
              "\n",
              "    .dataframe thead th {\n",
              "        text-align: right;\n",
              "    }\n",
              "</style>\n",
              "<table border=\"1\" class=\"dataframe\">\n",
              "  <thead>\n",
              "    <tr style=\"text-align: right;\">\n",
              "      <th></th>\n",
              "      <th>Campaign Name</th>\n",
              "      <th>Sends</th>\n",
              "      <th>Open</th>\n",
              "      <th>Click</th>\n",
              "      <th>Applied Customers</th>\n",
              "      <th>Date</th>\n",
              "    </tr>\n",
              "  </thead>\n",
              "  <tbody>\n",
              "    <tr>\n",
              "      <th>0</th>\n",
              "      <td>CL Promo</td>\n",
              "      <td>80</td>\n",
              "      <td>13</td>\n",
              "      <td>5</td>\n",
              "      <td>1</td>\n",
              "      <td>2019-01-01</td>\n",
              "    </tr>\n",
              "    <tr>\n",
              "      <th>1</th>\n",
              "      <td>CL Promo</td>\n",
              "      <td>126</td>\n",
              "      <td>13</td>\n",
              "      <td>5</td>\n",
              "      <td>1</td>\n",
              "      <td>2019-01-01</td>\n",
              "    </tr>\n",
              "    <tr>\n",
              "      <th>2</th>\n",
              "      <td>CL Promo</td>\n",
              "      <td>32</td>\n",
              "      <td>7</td>\n",
              "      <td>3</td>\n",
              "      <td>0</td>\n",
              "      <td>2019-01-01</td>\n",
              "    </tr>\n",
              "    <tr>\n",
              "      <th>3</th>\n",
              "      <td>CL Promo</td>\n",
              "      <td>28</td>\n",
              "      <td>4</td>\n",
              "      <td>2</td>\n",
              "      <td>0</td>\n",
              "      <td>2019-01-01</td>\n",
              "    </tr>\n",
              "    <tr>\n",
              "      <th>4</th>\n",
              "      <td>Churn prevention</td>\n",
              "      <td>66</td>\n",
              "      <td>13</td>\n",
              "      <td>5</td>\n",
              "      <td>1</td>\n",
              "      <td>2019-01-01</td>\n",
              "    </tr>\n",
              "    <tr>\n",
              "      <th>5</th>\n",
              "      <td>CL Promo</td>\n",
              "      <td>108</td>\n",
              "      <td>34</td>\n",
              "      <td>14</td>\n",
              "      <td>1</td>\n",
              "      <td>2019-01-01</td>\n",
              "    </tr>\n",
              "    <tr>\n",
              "      <th>6</th>\n",
              "      <td>CL Promo</td>\n",
              "      <td>412</td>\n",
              "      <td>136</td>\n",
              "      <td>57</td>\n",
              "      <td>6</td>\n",
              "      <td>2019-01-01</td>\n",
              "    </tr>\n",
              "    <tr>\n",
              "      <th>7</th>\n",
              "      <td>winter barometer 2019</td>\n",
              "      <td>276</td>\n",
              "      <td>62</td>\n",
              "      <td>26</td>\n",
              "      <td>3</td>\n",
              "      <td>2019-12-01</td>\n",
              "    </tr>\n",
              "    <tr>\n",
              "      <th>8</th>\n",
              "      <td>CL Promo</td>\n",
              "      <td>10</td>\n",
              "      <td>1</td>\n",
              "      <td>1</td>\n",
              "      <td>0</td>\n",
              "      <td>2019-01-01</td>\n",
              "    </tr>\n",
              "    <tr>\n",
              "      <th>9</th>\n",
              "      <td>CL Promo</td>\n",
              "      <td>4</td>\n",
              "      <td>2</td>\n",
              "      <td>1</td>\n",
              "      <td>0</td>\n",
              "      <td>2019-01-01</td>\n",
              "    </tr>\n",
              "  </tbody>\n",
              "</table>\n",
              "</div>"
            ],
            "text/plain": [
              "           Campaign Name  Sends  Open  Click  Applied Customers       Date\n",
              "0               CL Promo     80    13      5                  1 2019-01-01\n",
              "1               CL Promo    126    13      5                  1 2019-01-01\n",
              "2               CL Promo     32     7      3                  0 2019-01-01\n",
              "3               CL Promo     28     4      2                  0 2019-01-01\n",
              "4       Churn prevention     66    13      5                  1 2019-01-01\n",
              "5               CL Promo    108    34     14                  1 2019-01-01\n",
              "6               CL Promo    412   136     57                  6 2019-01-01\n",
              "7  winter barometer 2019    276    62     26                  3 2019-12-01\n",
              "8               CL Promo     10     1      1                  0 2019-01-01\n",
              "9               CL Promo      4     2      1                  0 2019-01-01"
            ]
          },
          "metadata": {
            "tags": []
          },
          "execution_count": 15
        }
      ]
    },
    {
      "cell_type": "code",
      "metadata": {
        "colab": {
          "base_uri": "https://localhost:8080/",
          "height": 1000
        },
        "id": "oDZJU33YoR-v",
        "outputId": "1565c4c5-9f70-40ff-cfd4-593bce00cdef"
      },
      "source": [
        "df_camp['Month']= df_camp['Date'].dt.month\n",
        "df_camp.head(40)"
      ],
      "execution_count": 22,
      "outputs": [
        {
          "output_type": "execute_result",
          "data": {
            "text/html": [
              "<div>\n",
              "<style scoped>\n",
              "    .dataframe tbody tr th:only-of-type {\n",
              "        vertical-align: middle;\n",
              "    }\n",
              "\n",
              "    .dataframe tbody tr th {\n",
              "        vertical-align: top;\n",
              "    }\n",
              "\n",
              "    .dataframe thead th {\n",
              "        text-align: right;\n",
              "    }\n",
              "</style>\n",
              "<table border=\"1\" class=\"dataframe\">\n",
              "  <thead>\n",
              "    <tr style=\"text-align: right;\">\n",
              "      <th></th>\n",
              "      <th>Campaign Name</th>\n",
              "      <th>Sends</th>\n",
              "      <th>Open</th>\n",
              "      <th>Click</th>\n",
              "      <th>Applied Customers</th>\n",
              "      <th>Date</th>\n",
              "      <th>Month</th>\n",
              "    </tr>\n",
              "  </thead>\n",
              "  <tbody>\n",
              "    <tr>\n",
              "      <th>0</th>\n",
              "      <td>CL Promo</td>\n",
              "      <td>80</td>\n",
              "      <td>13</td>\n",
              "      <td>5</td>\n",
              "      <td>1</td>\n",
              "      <td>2019-01-01</td>\n",
              "      <td>1</td>\n",
              "    </tr>\n",
              "    <tr>\n",
              "      <th>1</th>\n",
              "      <td>CL Promo</td>\n",
              "      <td>126</td>\n",
              "      <td>13</td>\n",
              "      <td>5</td>\n",
              "      <td>1</td>\n",
              "      <td>2019-01-01</td>\n",
              "      <td>1</td>\n",
              "    </tr>\n",
              "    <tr>\n",
              "      <th>2</th>\n",
              "      <td>CL Promo</td>\n",
              "      <td>32</td>\n",
              "      <td>7</td>\n",
              "      <td>3</td>\n",
              "      <td>0</td>\n",
              "      <td>2019-01-01</td>\n",
              "      <td>1</td>\n",
              "    </tr>\n",
              "    <tr>\n",
              "      <th>3</th>\n",
              "      <td>CL Promo</td>\n",
              "      <td>28</td>\n",
              "      <td>4</td>\n",
              "      <td>2</td>\n",
              "      <td>0</td>\n",
              "      <td>2019-01-01</td>\n",
              "      <td>1</td>\n",
              "    </tr>\n",
              "    <tr>\n",
              "      <th>4</th>\n",
              "      <td>Churn prevention</td>\n",
              "      <td>66</td>\n",
              "      <td>13</td>\n",
              "      <td>5</td>\n",
              "      <td>1</td>\n",
              "      <td>2019-01-01</td>\n",
              "      <td>1</td>\n",
              "    </tr>\n",
              "    <tr>\n",
              "      <th>5</th>\n",
              "      <td>CL Promo</td>\n",
              "      <td>108</td>\n",
              "      <td>34</td>\n",
              "      <td>14</td>\n",
              "      <td>1</td>\n",
              "      <td>2019-01-01</td>\n",
              "      <td>1</td>\n",
              "    </tr>\n",
              "    <tr>\n",
              "      <th>6</th>\n",
              "      <td>CL Promo</td>\n",
              "      <td>412</td>\n",
              "      <td>136</td>\n",
              "      <td>57</td>\n",
              "      <td>6</td>\n",
              "      <td>2019-01-01</td>\n",
              "      <td>1</td>\n",
              "    </tr>\n",
              "    <tr>\n",
              "      <th>7</th>\n",
              "      <td>winter barometer 2019</td>\n",
              "      <td>276</td>\n",
              "      <td>62</td>\n",
              "      <td>26</td>\n",
              "      <td>3</td>\n",
              "      <td>2019-12-01</td>\n",
              "      <td>12</td>\n",
              "    </tr>\n",
              "    <tr>\n",
              "      <th>8</th>\n",
              "      <td>CL Promo</td>\n",
              "      <td>10</td>\n",
              "      <td>1</td>\n",
              "      <td>1</td>\n",
              "      <td>0</td>\n",
              "      <td>2019-01-01</td>\n",
              "      <td>1</td>\n",
              "    </tr>\n",
              "    <tr>\n",
              "      <th>9</th>\n",
              "      <td>CL Promo</td>\n",
              "      <td>4</td>\n",
              "      <td>2</td>\n",
              "      <td>1</td>\n",
              "      <td>0</td>\n",
              "      <td>2019-01-01</td>\n",
              "      <td>1</td>\n",
              "    </tr>\n",
              "    <tr>\n",
              "      <th>10</th>\n",
              "      <td>Limit increase</td>\n",
              "      <td>14</td>\n",
              "      <td>1</td>\n",
              "      <td>1</td>\n",
              "      <td>0</td>\n",
              "      <td>2019-01-01</td>\n",
              "      <td>1</td>\n",
              "    </tr>\n",
              "    <tr>\n",
              "      <th>11</th>\n",
              "      <td>Limit increase</td>\n",
              "      <td>14</td>\n",
              "      <td>1</td>\n",
              "      <td>1</td>\n",
              "      <td>0</td>\n",
              "      <td>2019-01-01</td>\n",
              "      <td>1</td>\n",
              "    </tr>\n",
              "    <tr>\n",
              "      <th>12</th>\n",
              "      <td>Limit Left</td>\n",
              "      <td>46</td>\n",
              "      <td>1</td>\n",
              "      <td>1</td>\n",
              "      <td>0</td>\n",
              "      <td>2019-01-01</td>\n",
              "      <td>1</td>\n",
              "    </tr>\n",
              "    <tr>\n",
              "      <th>13</th>\n",
              "      <td>Lead</td>\n",
              "      <td>614</td>\n",
              "      <td>67</td>\n",
              "      <td>28</td>\n",
              "      <td>3</td>\n",
              "      <td>2019-01-01</td>\n",
              "      <td>1</td>\n",
              "    </tr>\n",
              "    <tr>\n",
              "      <th>14</th>\n",
              "      <td>Lead</td>\n",
              "      <td>104</td>\n",
              "      <td>38</td>\n",
              "      <td>16</td>\n",
              "      <td>2</td>\n",
              "      <td>2019-01-01</td>\n",
              "      <td>1</td>\n",
              "    </tr>\n",
              "    <tr>\n",
              "      <th>15</th>\n",
              "      <td>Lead</td>\n",
              "      <td>14</td>\n",
              "      <td>1</td>\n",
              "      <td>1</td>\n",
              "      <td>0</td>\n",
              "      <td>2019-01-01</td>\n",
              "      <td>1</td>\n",
              "    </tr>\n",
              "    <tr>\n",
              "      <th>16</th>\n",
              "      <td>CL Promo</td>\n",
              "      <td>4</td>\n",
              "      <td>2</td>\n",
              "      <td>1</td>\n",
              "      <td>0</td>\n",
              "      <td>2019-01-01</td>\n",
              "      <td>1</td>\n",
              "    </tr>\n",
              "    <tr>\n",
              "      <th>17</th>\n",
              "      <td>Lead</td>\n",
              "      <td>10</td>\n",
              "      <td>1</td>\n",
              "      <td>1</td>\n",
              "      <td>0</td>\n",
              "      <td>2019-01-01</td>\n",
              "      <td>1</td>\n",
              "    </tr>\n",
              "    <tr>\n",
              "      <th>18</th>\n",
              "      <td>CL Promo</td>\n",
              "      <td>52</td>\n",
              "      <td>8</td>\n",
              "      <td>4</td>\n",
              "      <td>0</td>\n",
              "      <td>2019-02-01</td>\n",
              "      <td>2</td>\n",
              "    </tr>\n",
              "    <tr>\n",
              "      <th>19</th>\n",
              "      <td>CL Promo</td>\n",
              "      <td>46</td>\n",
              "      <td>7</td>\n",
              "      <td>3</td>\n",
              "      <td>0</td>\n",
              "      <td>2019-02-01</td>\n",
              "      <td>2</td>\n",
              "    </tr>\n",
              "    <tr>\n",
              "      <th>20</th>\n",
              "      <td>CL Promo</td>\n",
              "      <td>4</td>\n",
              "      <td>1</td>\n",
              "      <td>1</td>\n",
              "      <td>0</td>\n",
              "      <td>2019-02-01</td>\n",
              "      <td>2</td>\n",
              "    </tr>\n",
              "    <tr>\n",
              "      <th>21</th>\n",
              "      <td>CL Promo</td>\n",
              "      <td>52</td>\n",
              "      <td>5</td>\n",
              "      <td>2</td>\n",
              "      <td>0</td>\n",
              "      <td>2019-02-01</td>\n",
              "      <td>2</td>\n",
              "    </tr>\n",
              "    <tr>\n",
              "      <th>22</th>\n",
              "      <td>Churn prevention</td>\n",
              "      <td>32</td>\n",
              "      <td>13</td>\n",
              "      <td>5</td>\n",
              "      <td>1</td>\n",
              "      <td>2019-02-01</td>\n",
              "      <td>2</td>\n",
              "    </tr>\n",
              "    <tr>\n",
              "      <th>23</th>\n",
              "      <td>CL Promo</td>\n",
              "      <td>126</td>\n",
              "      <td>35</td>\n",
              "      <td>15</td>\n",
              "      <td>1</td>\n",
              "      <td>2019-02-01</td>\n",
              "      <td>2</td>\n",
              "    </tr>\n",
              "    <tr>\n",
              "      <th>24</th>\n",
              "      <td>CL Promo</td>\n",
              "      <td>76</td>\n",
              "      <td>26</td>\n",
              "      <td>11</td>\n",
              "      <td>1</td>\n",
              "      <td>2019-02-01</td>\n",
              "      <td>2</td>\n",
              "    </tr>\n",
              "    <tr>\n",
              "      <th>25</th>\n",
              "      <td>CL Promo</td>\n",
              "      <td>28</td>\n",
              "      <td>1</td>\n",
              "      <td>1</td>\n",
              "      <td>0</td>\n",
              "      <td>2019-02-01</td>\n",
              "      <td>2</td>\n",
              "    </tr>\n",
              "    <tr>\n",
              "      <th>26</th>\n",
              "      <td>CL Promo</td>\n",
              "      <td>10</td>\n",
              "      <td>1</td>\n",
              "      <td>1</td>\n",
              "      <td>0</td>\n",
              "      <td>2019-02-01</td>\n",
              "      <td>2</td>\n",
              "    </tr>\n",
              "    <tr>\n",
              "      <th>27</th>\n",
              "      <td>Limit increase</td>\n",
              "      <td>4</td>\n",
              "      <td>1</td>\n",
              "      <td>1</td>\n",
              "      <td>0</td>\n",
              "      <td>2019-02-01</td>\n",
              "      <td>2</td>\n",
              "    </tr>\n",
              "    <tr>\n",
              "      <th>28</th>\n",
              "      <td>CL Promo</td>\n",
              "      <td>14</td>\n",
              "      <td>1</td>\n",
              "      <td>1</td>\n",
              "      <td>0</td>\n",
              "      <td>2019-02-01</td>\n",
              "      <td>2</td>\n",
              "    </tr>\n",
              "    <tr>\n",
              "      <th>29</th>\n",
              "      <td>Lead</td>\n",
              "      <td>376</td>\n",
              "      <td>45</td>\n",
              "      <td>19</td>\n",
              "      <td>2</td>\n",
              "      <td>2019-02-01</td>\n",
              "      <td>2</td>\n",
              "    </tr>\n",
              "    <tr>\n",
              "      <th>30</th>\n",
              "      <td>Activation</td>\n",
              "      <td>258</td>\n",
              "      <td>22</td>\n",
              "      <td>9</td>\n",
              "      <td>1</td>\n",
              "      <td>2019-01-01</td>\n",
              "      <td>1</td>\n",
              "    </tr>\n",
              "    <tr>\n",
              "      <th>31</th>\n",
              "      <td>Activation</td>\n",
              "      <td>450</td>\n",
              "      <td>65</td>\n",
              "      <td>27</td>\n",
              "      <td>3</td>\n",
              "      <td>2019-02-01</td>\n",
              "      <td>2</td>\n",
              "    </tr>\n",
              "    <tr>\n",
              "      <th>32</th>\n",
              "      <td>Activation</td>\n",
              "      <td>394</td>\n",
              "      <td>63</td>\n",
              "      <td>26</td>\n",
              "      <td>3</td>\n",
              "      <td>2019-03-01</td>\n",
              "      <td>3</td>\n",
              "    </tr>\n",
              "    <tr>\n",
              "      <th>33</th>\n",
              "      <td>Activation</td>\n",
              "      <td>600</td>\n",
              "      <td>69</td>\n",
              "      <td>29</td>\n",
              "      <td>3</td>\n",
              "      <td>2019-04-01</td>\n",
              "      <td>4</td>\n",
              "    </tr>\n",
              "    <tr>\n",
              "      <th>34</th>\n",
              "      <td>Activation</td>\n",
              "      <td>676</td>\n",
              "      <td>47</td>\n",
              "      <td>20</td>\n",
              "      <td>2</td>\n",
              "      <td>2019-05-01</td>\n",
              "      <td>5</td>\n",
              "    </tr>\n",
              "    <tr>\n",
              "      <th>35</th>\n",
              "      <td>Activation</td>\n",
              "      <td>334</td>\n",
              "      <td>43</td>\n",
              "      <td>18</td>\n",
              "      <td>2</td>\n",
              "      <td>2019-06-01</td>\n",
              "      <td>6</td>\n",
              "    </tr>\n",
              "    <tr>\n",
              "      <th>36</th>\n",
              "      <td>Activation</td>\n",
              "      <td>240</td>\n",
              "      <td>53</td>\n",
              "      <td>22</td>\n",
              "      <td>2</td>\n",
              "      <td>2019-07-01</td>\n",
              "      <td>7</td>\n",
              "    </tr>\n",
              "    <tr>\n",
              "      <th>37</th>\n",
              "      <td>Activation</td>\n",
              "      <td>254</td>\n",
              "      <td>40</td>\n",
              "      <td>17</td>\n",
              "      <td>2</td>\n",
              "      <td>2019-08-01</td>\n",
              "      <td>8</td>\n",
              "    </tr>\n",
              "    <tr>\n",
              "      <th>38</th>\n",
              "      <td>Activation</td>\n",
              "      <td>80</td>\n",
              "      <td>24</td>\n",
              "      <td>10</td>\n",
              "      <td>1</td>\n",
              "      <td>2019-09-01</td>\n",
              "      <td>9</td>\n",
              "    </tr>\n",
              "    <tr>\n",
              "      <th>39</th>\n",
              "      <td>Activation</td>\n",
              "      <td>90</td>\n",
              "      <td>19</td>\n",
              "      <td>8</td>\n",
              "      <td>1</td>\n",
              "      <td>2019-10-01</td>\n",
              "      <td>10</td>\n",
              "    </tr>\n",
              "  </tbody>\n",
              "</table>\n",
              "</div>"
            ],
            "text/plain": [
              "            Campaign Name  Sends  Open  ...  Applied Customers       Date Month\n",
              "0                CL Promo     80    13  ...                  1 2019-01-01     1\n",
              "1                CL Promo    126    13  ...                  1 2019-01-01     1\n",
              "2                CL Promo     32     7  ...                  0 2019-01-01     1\n",
              "3                CL Promo     28     4  ...                  0 2019-01-01     1\n",
              "4        Churn prevention     66    13  ...                  1 2019-01-01     1\n",
              "5                CL Promo    108    34  ...                  1 2019-01-01     1\n",
              "6                CL Promo    412   136  ...                  6 2019-01-01     1\n",
              "7   winter barometer 2019    276    62  ...                  3 2019-12-01    12\n",
              "8                CL Promo     10     1  ...                  0 2019-01-01     1\n",
              "9                CL Promo      4     2  ...                  0 2019-01-01     1\n",
              "10         Limit increase     14     1  ...                  0 2019-01-01     1\n",
              "11         Limit increase     14     1  ...                  0 2019-01-01     1\n",
              "12             Limit Left     46     1  ...                  0 2019-01-01     1\n",
              "13                   Lead    614    67  ...                  3 2019-01-01     1\n",
              "14                   Lead    104    38  ...                  2 2019-01-01     1\n",
              "15                   Lead     14     1  ...                  0 2019-01-01     1\n",
              "16               CL Promo      4     2  ...                  0 2019-01-01     1\n",
              "17                   Lead     10     1  ...                  0 2019-01-01     1\n",
              "18               CL Promo     52     8  ...                  0 2019-02-01     2\n",
              "19               CL Promo     46     7  ...                  0 2019-02-01     2\n",
              "20               CL Promo      4     1  ...                  0 2019-02-01     2\n",
              "21               CL Promo     52     5  ...                  0 2019-02-01     2\n",
              "22       Churn prevention     32    13  ...                  1 2019-02-01     2\n",
              "23               CL Promo    126    35  ...                  1 2019-02-01     2\n",
              "24               CL Promo     76    26  ...                  1 2019-02-01     2\n",
              "25               CL Promo     28     1  ...                  0 2019-02-01     2\n",
              "26               CL Promo     10     1  ...                  0 2019-02-01     2\n",
              "27         Limit increase      4     1  ...                  0 2019-02-01     2\n",
              "28               CL Promo     14     1  ...                  0 2019-02-01     2\n",
              "29                   Lead    376    45  ...                  2 2019-02-01     2\n",
              "30             Activation    258    22  ...                  1 2019-01-01     1\n",
              "31             Activation    450    65  ...                  3 2019-02-01     2\n",
              "32             Activation    394    63  ...                  3 2019-03-01     3\n",
              "33             Activation    600    69  ...                  3 2019-04-01     4\n",
              "34             Activation    676    47  ...                  2 2019-05-01     5\n",
              "35             Activation    334    43  ...                  2 2019-06-01     6\n",
              "36             Activation    240    53  ...                  2 2019-07-01     7\n",
              "37             Activation    254    40  ...                  2 2019-08-01     8\n",
              "38             Activation     80    24  ...                  1 2019-09-01     9\n",
              "39             Activation     90    19  ...                  1 2019-10-01    10\n",
              "\n",
              "[40 rows x 7 columns]"
            ]
          },
          "metadata": {
            "tags": []
          },
          "execution_count": 22
        }
      ]
    },
    {
      "cell_type": "markdown",
      "metadata": {
        "id": "rNx9YnUVnHiy"
      },
      "source": [
        "# Which campaigns were the most effective? Why do you think so? Please justify your opinion."
      ]
    },
    {
      "cell_type": "markdown",
      "metadata": {
        "id": "Xehfj43AzmQz"
      },
      "source": [
        "In order to answer this question, we need to calculate the `Conversion Rate` of each  campaign. In my assumption, a conversion rate is the percentage of visitors that complete your desired action to the number of people that could have converted. Therefore, in our case the conversion rate will be:\n",
        "\n",
        "(Number of Applied customer / Number of people who visited i.e. clicked) x 100"
      ]
    },
    {
      "cell_type": "code",
      "metadata": {
        "colab": {
          "base_uri": "https://localhost:8080/",
          "height": 669
        },
        "id": "InHb4esMxziY",
        "outputId": "fb325853-8215-4cb2-c87b-ca114f9683a7"
      },
      "source": [
        "d_eff= df_camp.copy()\n",
        "d_eff= d_eff.groupby(['Campaign Name']).sum().reset_index()\n",
        "d_eff['ConversionRate']= (d_eff['Applied Customers']/d_eff['Click']) * 100\n",
        "d_eff.sort_values('ConversionRate')\n",
        "d_eff[['Campaign Name', 'ConversionRate']]"
      ],
      "execution_count": 35,
      "outputs": [
        {
          "output_type": "execute_result",
          "data": {
            "text/html": [
              "<div>\n",
              "<style scoped>\n",
              "    .dataframe tbody tr th:only-of-type {\n",
              "        vertical-align: middle;\n",
              "    }\n",
              "\n",
              "    .dataframe tbody tr th {\n",
              "        vertical-align: top;\n",
              "    }\n",
              "\n",
              "    .dataframe thead th {\n",
              "        text-align: right;\n",
              "    }\n",
              "</style>\n",
              "<table border=\"1\" class=\"dataframe\">\n",
              "  <thead>\n",
              "    <tr style=\"text-align: right;\">\n",
              "      <th></th>\n",
              "      <th>Campaign Name</th>\n",
              "      <th>ConversionRate</th>\n",
              "    </tr>\n",
              "  </thead>\n",
              "  <tbody>\n",
              "    <tr>\n",
              "      <th>0</th>\n",
              "      <td>Activation</td>\n",
              "      <td>11.111111</td>\n",
              "    </tr>\n",
              "    <tr>\n",
              "      <th>1</th>\n",
              "      <td>Back_to_school</td>\n",
              "      <td>10.227273</td>\n",
              "    </tr>\n",
              "    <tr>\n",
              "      <th>2</th>\n",
              "      <td>Balance 0</td>\n",
              "      <td>9.375000</td>\n",
              "    </tr>\n",
              "    <tr>\n",
              "      <th>3</th>\n",
              "      <td>Barometer</td>\n",
              "      <td>8.333333</td>\n",
              "    </tr>\n",
              "    <tr>\n",
              "      <th>4</th>\n",
              "      <td>Birthday</td>\n",
              "      <td>9.859155</td>\n",
              "    </tr>\n",
              "    <tr>\n",
              "      <th>5</th>\n",
              "      <td>Black_friday</td>\n",
              "      <td>10.096154</td>\n",
              "    </tr>\n",
              "    <tr>\n",
              "      <th>6</th>\n",
              "      <td>CL Promo</td>\n",
              "      <td>9.977517</td>\n",
              "    </tr>\n",
              "    <tr>\n",
              "      <th>7</th>\n",
              "      <td>Churn prevention</td>\n",
              "      <td>10.000000</td>\n",
              "    </tr>\n",
              "    <tr>\n",
              "      <th>8</th>\n",
              "      <td>Easter2019</td>\n",
              "      <td>0.000000</td>\n",
              "    </tr>\n",
              "    <tr>\n",
              "      <th>9</th>\n",
              "      <td>First loan free</td>\n",
              "      <td>0.000000</td>\n",
              "    </tr>\n",
              "    <tr>\n",
              "      <th>10</th>\n",
              "      <td>Lead</td>\n",
              "      <td>9.915966</td>\n",
              "    </tr>\n",
              "    <tr>\n",
              "      <th>11</th>\n",
              "      <td>Leasing</td>\n",
              "      <td>10.060976</td>\n",
              "    </tr>\n",
              "    <tr>\n",
              "      <th>12</th>\n",
              "      <td>Limit Left</td>\n",
              "      <td>9.983793</td>\n",
              "    </tr>\n",
              "    <tr>\n",
              "      <th>13</th>\n",
              "      <td>Limit increase</td>\n",
              "      <td>9.855769</td>\n",
              "    </tr>\n",
              "    <tr>\n",
              "      <th>14</th>\n",
              "      <td>Loyalty promo</td>\n",
              "      <td>0.000000</td>\n",
              "    </tr>\n",
              "    <tr>\n",
              "      <th>15</th>\n",
              "      <td>Paid back promo</td>\n",
              "      <td>0.000000</td>\n",
              "    </tr>\n",
              "    <tr>\n",
              "      <th>16</th>\n",
              "      <td>Prime promo</td>\n",
              "      <td>9.990912</td>\n",
              "    </tr>\n",
              "    <tr>\n",
              "      <th>17</th>\n",
              "      <td>SMS</td>\n",
              "      <td>10.019519</td>\n",
              "    </tr>\n",
              "    <tr>\n",
              "      <th>18</th>\n",
              "      <td>midsummer_campaign</td>\n",
              "      <td>9.909910</td>\n",
              "    </tr>\n",
              "    <tr>\n",
              "      <th>19</th>\n",
              "      <td>winter barometer 2019</td>\n",
              "      <td>10.006605</td>\n",
              "    </tr>\n",
              "  </tbody>\n",
              "</table>\n",
              "</div>"
            ],
            "text/plain": [
              "            Campaign Name  ConversionRate\n",
              "0              Activation       11.111111\n",
              "1          Back_to_school       10.227273\n",
              "2               Balance 0        9.375000\n",
              "3               Barometer        8.333333\n",
              "4                Birthday        9.859155\n",
              "5            Black_friday       10.096154\n",
              "6                CL Promo        9.977517\n",
              "7        Churn prevention       10.000000\n",
              "8              Easter2019        0.000000\n",
              "9         First loan free        0.000000\n",
              "10                   Lead        9.915966\n",
              "11                Leasing       10.060976\n",
              "12             Limit Left        9.983793\n",
              "13         Limit increase        9.855769\n",
              "14          Loyalty promo        0.000000\n",
              "15        Paid back promo        0.000000\n",
              "16            Prime promo        9.990912\n",
              "17                    SMS       10.019519\n",
              "18     midsummer_campaign        9.909910\n",
              "19  winter barometer 2019       10.006605"
            ]
          },
          "metadata": {
            "tags": []
          },
          "execution_count": 35
        }
      ]
    },
    {
      "cell_type": "markdown",
      "metadata": {
        "id": "mzb3YUKC4hX_"
      },
      "source": [
        "#Campaign Conversion Rate"
      ]
    },
    {
      "cell_type": "code",
      "metadata": {
        "colab": {
          "base_uri": "https://localhost:8080/",
          "height": 618
        },
        "id": "IkPA_OMp3pDP",
        "outputId": "e9004339-5f43-49a1-c01a-d5308682cb40"
      },
      "source": [
        "\n",
        "fig,ax= plt.subplots(1)\n",
        "fig.set_figheight(8)\n",
        "fig.set_figwidth(15)\n",
        "\n",
        "ax.set_title('Campaign Conversion Rate')\n",
        "sns.barplot(x=d_eff['Campaign Name'], y=d_eff['ConversionRate'], data=d_eff,ax=ax, palette=\"Blues_d\")\n",
        "plt.xticks(rotation=90);\n"
      ],
      "execution_count": 44,
      "outputs": [
        {
          "output_type": "display_data",
          "data": {
            "image/png": "[encoded data removed]",
            "text/plain": [
              "<Figure size 1080x576 with 1 Axes>"
            ]
          },
          "metadata": {
            "tags": [],
            "needs_background": "light"
          }
        }
      ]
    },
    {
      "cell_type": "markdown",
      "metadata": {
        "id": "MK2YgU9w7M8z"
      },
      "source": [
        "`Activation` campaign did perfrom well compared to other in 2019."
      ]
    },
    {
      "cell_type": "code",
      "metadata": {
        "colab": {
          "base_uri": "https://localhost:8080/"
        },
        "id": "9CYTuLcmKFSN",
        "outputId": "eee96632-4340-483e-8d09-917da155842f"
      },
      "source": [
        "df_camp_eff= df_camp.groupby(['Month','Campaign Name']).sum().reset_index()\n",
        "df_camp_eff.head"
      ],
      "execution_count": 43,
      "outputs": [
        {
          "output_type": "execute_result",
          "data": {
            "text/plain": [
              "<bound method NDFrame.head of      Month          Campaign Name  Sends  Open  Click  Applied Customers\n",
              "0        1             Activation    258    22      9                  1\n",
              "1        1               CL Promo   6578  1350    564                 56\n",
              "2        1       Churn prevention     66    13      5                  1\n",
              "3        1        First loan free      4     1      1                  0\n",
              "4        1                   Lead    742   107     46                  5\n",
              "..     ...                    ...    ...   ...    ...                ...\n",
              "116     12         Limit increase    366    96     41                  4\n",
              "117     12            Prime promo    776   200     85                  9\n",
              "118     12                    SMS    526    76     32                  3\n",
              "119     12     midsummer_campaign     10     3      1                  0\n",
              "120     12  winter barometer 2019   7856  1146    479                 48\n",
              "\n",
              "[121 rows x 6 columns]>"
            ]
          },
          "metadata": {
            "tags": []
          },
          "execution_count": 43
        }
      ]
    },
    {
      "cell_type": "markdown",
      "metadata": {
        "id": "F1fF_CO8FCdK"
      },
      "source": [
        "# Can you give any recommendations or useful insights based on the data?"
      ]
    },
    {
      "cell_type": "markdown",
      "metadata": {
        "id": "_fQxkL5oF0H8"
      },
      "source": [
        "# What variable(s) would you add to this data to be able to have a better view of CRM campaign effectiveness?"
      ]
    },
    {
      "cell_type": "markdown",
      "metadata": {
        "id": "3mPZGFN9F62S"
      },
      "source": [
        "Below variables can be included at the time of data gathering:\n",
        "1.   Demograpgy\n",
        "2.   Age of respondents\n",
        "3. Gender\n",
        "4. Word Counts/ Subject line length/ Total Links\n",
        "5.Airtime of the campaign\n",
        "5. Average run time\n",
        "\n"
      ]
    },
    {
      "cell_type": "code",
      "metadata": {
        "id": "pN4we5FWGrIX"
      },
      "source": [
        ""
      ],
      "execution_count": null,
      "outputs": []
    }
  ]
}