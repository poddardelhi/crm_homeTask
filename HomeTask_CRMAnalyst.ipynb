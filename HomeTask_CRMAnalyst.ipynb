{
  "nbformat": 4,
  "nbformat_minor": 0,
  "metadata": {
    "kernelspec": {
      "display_name": "Python 3",
      "language": "python",
      "name": "python3"
    },
    "language_info": {
      "codemirror_mode": {
        "name": "ipython",
        "version": 3
      },
      "file_extension": ".py",
      "mimetype": "text/x-python",
      "name": "python",
      "nbconvert_exporter": "python",
      "pygments_lexer": "ipython3",
      "version": "3.7.6"
    },
    "colab": {
      "name": "HomeTask-CRMAnalyst.ipynb",
      "provenance": [],
      "include_colab_link": true
    }
  },
  "cells": [
    {
      "cell_type": "markdown",
      "metadata": {
        "id": "view-in-github",
        "colab_type": "text"
      },
      "source": [
        "<a href=\"https://colab.research.google.com/github/poddardelhi/crm_homeTask/blob/main/HomeTask_CRMAnalyst.ipynb\" target=\"_parent\"><img src=\"https://colab.research.google.com/assets/colab-badge.svg\" alt=\"Open In Colab\"/></a>"
      ]
    },
    {
      "cell_type": "code",
      "metadata": {
        "id": "x3GeNvQb6jnB"
      },
      "source": [
        "# Jovian Commit Essentials\n",
        "# Please retain and execute this cell without modifying the contents for `jovian.commit` to work\n",
        "!pip install jovian --upgrade -q\n",
        "import jovian\n",
        "jovian.set_project('crm-analyst-home-task')\n",
        "jovian.set_colab_id('19qlyMoLkYQQTuyeGOT8H77D-46PRtm_K')"
      ],
      "execution_count": 28,
      "outputs": []
    },
    {
      "cell_type": "markdown",
      "metadata": {
        "id": "zVs9-OWGdOXx"
      },
      "source": [
        "# Commit the work"
      ]
    },
    {
      "cell_type": "code",
      "metadata": {
        "colab": {
          "base_uri": "https://localhost:8080/",
          "height": 103
        },
        "id": "b0aREkIjMR3K",
        "outputId": "21cb83dc-3230-4711-b94c-eba24a6d898c"
      },
      "source": [
        "#Save the work to JOVIAN.ML\n",
        "project_name = \"crm-analyst-home-task\"\n",
        " # change this\n",
        "jovian.commit(project=project_name)"
      ],
      "execution_count": 42,
      "outputs": [
        {
          "output_type": "stream",
          "text": [
            "[jovian] Detected Colab notebook...\u001b[0m\n",
            "[jovian] Uploading colab notebook to Jovian...\u001b[0m\n",
            "[jovian] Capturing environment..\u001b[0m\n",
            "[jovian] Committed successfully! https://jovian.ai/poddardelhi/crm-analyst-home-task\u001b[0m\n"
          ],
          "name": "stdout"
        },
        {
          "output_type": "execute_result",
          "data": {
            "application/vnd.google.colaboratory.intrinsic+json": {
              "type": "string"
            },
            "text/plain": [
              "'https://jovian.ai/poddardelhi/crm-analyst-home-task'"
            ]
          },
          "metadata": {
            "tags": []
          },
          "execution_count": 42
        }
      ]
    },
    {
      "cell_type": "code",
      "metadata": {
        "colab": {
          "base_uri": "https://localhost:8080/"
        },
        "id": "W88VBk3kQMFU",
        "outputId": "419fcf9c-fd35-42eb-d2c0-af9e1427d540"
      },
      "source": [
        "from google.colab import drive\n",
        "drive.mount('/content/drive')"
      ],
      "execution_count": 3,
      "outputs": [
        {
          "output_type": "stream",
          "text": [
            "Mounted at /content/drive\n"
          ],
          "name": "stdout"
        }
      ]
    },
    {
      "cell_type": "code",
      "metadata": {
        "id": "dXbKgO3-R87a"
      },
      "source": [
        "# Importing the necessary libraries\n",
        "import numpy as np\n",
        "import pandas as pd\n",
        "import pandas_profiling\n",
        "import seaborn as sns\n",
        "import matplotlib.pyplot as plt\n",
        "\n",
        "%matplotlib inline"
      ],
      "execution_count": 5,
      "outputs": []
    },
    {
      "cell_type": "markdown",
      "metadata": {
        "id": "eeCEIWVBQs7j"
      },
      "source": [
        "# Task 1\n",
        "\n",
        "\n",
        "\n",
        "1. Calculate the following rates, based on data from the page \"1. Data\" (in the data sheet there are columns currently empty - fill them):\n",
        "  \n",
        "  1.1. Funnel Start Rate (Rate at which Sessions become Started Applications).\n",
        "  \n",
        "  1.2. Approval Rate (Rate at which Finished Applications become Approved Applications)\n",
        "  \n",
        "  1.3. Write Rate (Rate at which Approved Applications become Paid Applications)\n",
        "\n",
        "\n",
        "\n",
        "\n"
      ]
    },
    {
      "cell_type": "code",
      "metadata": {
        "id": "x4UNGZ6xQM0Q"
      },
      "source": [
        "df_application= pd.read_csv(\"/content/drive/MyDrive/Jovian/Ferratum_CRM/data_q1.csv\")"
      ],
      "execution_count": 8,
      "outputs": []
    },
    {
      "cell_type": "code",
      "metadata": {
        "colab": {
          "base_uri": "https://localhost:8080/",
          "height": 204
        },
        "id": "eVk8gJLyTRVJ",
        "outputId": "429c30ba-8992-486b-8898-f429badf1d32"
      },
      "source": [
        "df_application.head()"
      ],
      "execution_count": 9,
      "outputs": [
        {
          "output_type": "execute_result",
          "data": {
            "text/html": [
              "<div>\n",
              "<style scoped>\n",
              "    .dataframe tbody tr th:only-of-type {\n",
              "        vertical-align: middle;\n",
              "    }\n",
              "\n",
              "    .dataframe tbody tr th {\n",
              "        vertical-align: top;\n",
              "    }\n",
              "\n",
              "    .dataframe thead th {\n",
              "        text-align: right;\n",
              "    }\n",
              "</style>\n",
              "<table border=\"1\" class=\"dataframe\">\n",
              "  <thead>\n",
              "    <tr style=\"text-align: right;\">\n",
              "      <th></th>\n",
              "      <th>Country</th>\n",
              "      <th>Date</th>\n",
              "      <th>Date_HR</th>\n",
              "      <th>Sessions</th>\n",
              "      <th>StartedApplications</th>\n",
              "      <th>FinishedApps</th>\n",
              "      <th>Approved</th>\n",
              "      <th>PaidOut</th>\n",
              "    </tr>\n",
              "  </thead>\n",
              "  <tbody>\n",
              "    <tr>\n",
              "      <th>0</th>\n",
              "      <td>Australia</td>\n",
              "      <td>43466</td>\n",
              "      <td>01/01/2019</td>\n",
              "      <td>91127.0</td>\n",
              "      <td>28144.0</td>\n",
              "      <td>10587</td>\n",
              "      <td>523.0</td>\n",
              "      <td>510.0</td>\n",
              "    </tr>\n",
              "    <tr>\n",
              "      <th>1</th>\n",
              "      <td>Australia</td>\n",
              "      <td>43497</td>\n",
              "      <td>01/02/2019</td>\n",
              "      <td>77586.0</td>\n",
              "      <td>24290.0</td>\n",
              "      <td>9054</td>\n",
              "      <td>546.0</td>\n",
              "      <td>537.0</td>\n",
              "    </tr>\n",
              "    <tr>\n",
              "      <th>2</th>\n",
              "      <td>Australia</td>\n",
              "      <td>43525</td>\n",
              "      <td>01/03/2019</td>\n",
              "      <td>65420.0</td>\n",
              "      <td>18904.0</td>\n",
              "      <td>7614</td>\n",
              "      <td>446.0</td>\n",
              "      <td>439.0</td>\n",
              "    </tr>\n",
              "    <tr>\n",
              "      <th>3</th>\n",
              "      <td>Brazil</td>\n",
              "      <td>43466</td>\n",
              "      <td>01/01/2019</td>\n",
              "      <td>232295.0</td>\n",
              "      <td>143099.0</td>\n",
              "      <td>14264</td>\n",
              "      <td>1229.0</td>\n",
              "      <td>678.0</td>\n",
              "    </tr>\n",
              "    <tr>\n",
              "      <th>4</th>\n",
              "      <td>Brazil</td>\n",
              "      <td>43497</td>\n",
              "      <td>01/02/2019</td>\n",
              "      <td>168190.0</td>\n",
              "      <td>99253.0</td>\n",
              "      <td>14090</td>\n",
              "      <td>755.0</td>\n",
              "      <td>321.0</td>\n",
              "    </tr>\n",
              "  </tbody>\n",
              "</table>\n",
              "</div>"
            ],
            "text/plain": [
              "     Country   Date     Date_HR  ...  FinishedApps  Approved  PaidOut\n",
              "0  Australia  43466  01/01/2019  ...         10587     523.0    510.0\n",
              "1  Australia  43497  01/02/2019  ...          9054     546.0    537.0\n",
              "2  Australia  43525  01/03/2019  ...          7614     446.0    439.0\n",
              "3     Brazil  43466  01/01/2019  ...         14264    1229.0    678.0\n",
              "4     Brazil  43497  01/02/2019  ...         14090     755.0    321.0\n",
              "\n",
              "[5 rows x 8 columns]"
            ]
          },
          "metadata": {
            "tags": []
          },
          "execution_count": 9
        }
      ]
    },
    {
      "cell_type": "code",
      "metadata": {
        "colab": {
          "base_uri": "https://localhost:8080/"
        },
        "id": "mVx6wWI9c2bT",
        "outputId": "1b9b7537-5b6f-4506-fab8-27020306bafd"
      },
      "source": [
        "df_application.shape"
      ],
      "execution_count": 12,
      "outputs": [
        {
          "output_type": "execute_result",
          "data": {
            "text/plain": [
              "(66, 8)"
            ]
          },
          "metadata": {
            "tags": []
          },
          "execution_count": 12
        }
      ]
    },
    {
      "cell_type": "code",
      "metadata": {
        "colab": {
          "base_uri": "https://localhost:8080/"
        },
        "id": "9FLkYii6dtpX",
        "outputId": "5346448d-10cb-4858-f767-5241de1f8b8b"
      },
      "source": [
        "#checking the Null or Nan values\n",
        "df_application.isna().sum()"
      ],
      "execution_count": 16,
      "outputs": [
        {
          "output_type": "execute_result",
          "data": {
            "text/plain": [
              "Country                0\n",
              "Date                   0\n",
              "Date_HR                0\n",
              "Sessions               3\n",
              "StartedApplications    3\n",
              "FinishedApps           0\n",
              "Approved               2\n",
              "PaidOut                2\n",
              "dtype: int64"
            ]
          },
          "metadata": {
            "tags": []
          },
          "execution_count": 16
        }
      ]
    },
    {
      "cell_type": "code",
      "metadata": {
        "colab": {
          "base_uri": "https://localhost:8080/",
          "height": 204
        },
        "id": "yG3iXRKGe3Sv",
        "outputId": "c0529d09-5283-4009-9ad9-3c70d2bb4723"
      },
      "source": [
        "# Finding the individual rows that are Null/NaN type\n",
        "none_values=df_application[df_application.isna().any(axis=1)][::]\n",
        "none_values.head()\n"
      ],
      "execution_count": 35,
      "outputs": [
        {
          "output_type": "execute_result",
          "data": {
            "text/html": [
              "<div>\n",
              "<style scoped>\n",
              "    .dataframe tbody tr th:only-of-type {\n",
              "        vertical-align: middle;\n",
              "    }\n",
              "\n",
              "    .dataframe tbody tr th {\n",
              "        vertical-align: top;\n",
              "    }\n",
              "\n",
              "    .dataframe thead th {\n",
              "        text-align: right;\n",
              "    }\n",
              "</style>\n",
              "<table border=\"1\" class=\"dataframe\">\n",
              "  <thead>\n",
              "    <tr style=\"text-align: right;\">\n",
              "      <th></th>\n",
              "      <th>Country</th>\n",
              "      <th>Date</th>\n",
              "      <th>Date_HR</th>\n",
              "      <th>Sessions</th>\n",
              "      <th>StartedApplications</th>\n",
              "      <th>FinishedApps</th>\n",
              "      <th>Approved</th>\n",
              "      <th>PaidOut</th>\n",
              "    </tr>\n",
              "  </thead>\n",
              "  <tbody>\n",
              "    <tr>\n",
              "      <th>39</th>\n",
              "      <td>Nigeria</td>\n",
              "      <td>43466</td>\n",
              "      <td>01/01/2019</td>\n",
              "      <td>NaN</td>\n",
              "      <td>NaN</td>\n",
              "      <td>92940</td>\n",
              "      <td>6.0</td>\n",
              "      <td>4.0</td>\n",
              "    </tr>\n",
              "    <tr>\n",
              "      <th>40</th>\n",
              "      <td>Nigeria</td>\n",
              "      <td>43497</td>\n",
              "      <td>01/02/2019</td>\n",
              "      <td>NaN</td>\n",
              "      <td>NaN</td>\n",
              "      <td>70493</td>\n",
              "      <td>4.0</td>\n",
              "      <td>1.0</td>\n",
              "    </tr>\n",
              "    <tr>\n",
              "      <th>41</th>\n",
              "      <td>Nigeria</td>\n",
              "      <td>43525</td>\n",
              "      <td>01/03/2019</td>\n",
              "      <td>NaN</td>\n",
              "      <td>NaN</td>\n",
              "      <td>60915</td>\n",
              "      <td>5.0</td>\n",
              "      <td>2.0</td>\n",
              "    </tr>\n",
              "    <tr>\n",
              "      <th>52</th>\n",
              "      <td>Russia</td>\n",
              "      <td>43497</td>\n",
              "      <td>01/02/2019</td>\n",
              "      <td>38605.0</td>\n",
              "      <td>13951.0</td>\n",
              "      <td>6228</td>\n",
              "      <td>NaN</td>\n",
              "      <td>NaN</td>\n",
              "    </tr>\n",
              "    <tr>\n",
              "      <th>53</th>\n",
              "      <td>Russia</td>\n",
              "      <td>43525</td>\n",
              "      <td>01/03/2019</td>\n",
              "      <td>16772.0</td>\n",
              "      <td>389.0</td>\n",
              "      <td>0</td>\n",
              "      <td>NaN</td>\n",
              "      <td>NaN</td>\n",
              "    </tr>\n",
              "  </tbody>\n",
              "</table>\n",
              "</div>"
            ],
            "text/plain": [
              "    Country   Date     Date_HR  ...  FinishedApps  Approved  PaidOut\n",
              "39  Nigeria  43466  01/01/2019  ...         92940       6.0      4.0\n",
              "40  Nigeria  43497  01/02/2019  ...         70493       4.0      1.0\n",
              "41  Nigeria  43525  01/03/2019  ...         60915       5.0      2.0\n",
              "52   Russia  43497  01/02/2019  ...          6228       NaN      NaN\n",
              "53   Russia  43525  01/03/2019  ...             0       NaN      NaN\n",
              "\n",
              "[5 rows x 8 columns]"
            ]
          },
          "metadata": {
            "tags": []
          },
          "execution_count": 35
        }
      ]
    },
    {
      "cell_type": "markdown",
      "metadata": {
        "id": "ssJY994pk3qE"
      },
      "source": [
        "## Empty columns?\n",
        "We have many empty columns for countries Nigeria and Russia. I'm taking a assumption here that every time a user logs in, it is recorded as 1 session. Therefore, I'm disregarding Nigeria during analysis and value 0 is replaced for all empty cells.\n",
        "\n",
        "In case of Russia, all NaN cells are replaced with value 0\n"
      ]
    },
    {
      "cell_type": "code",
      "metadata": {
        "colab": {
          "base_uri": "https://localhost:8080/"
        },
        "id": "eYbIvVXmAuDR",
        "outputId": "73f0ee42-fa89-4f5e-8d05-1b63aead7590"
      },
      "source": [
        "df_application.fillna(value=0, axis=1, inplace=True)\n",
        "df_application.isna().sum()"
      ],
      "execution_count": 38,
      "outputs": [
        {
          "output_type": "execute_result",
          "data": {
            "text/plain": [
              "Country                0\n",
              "Date                   0\n",
              "Date_HR                0\n",
              "Sessions               0\n",
              "StartedApplications    0\n",
              "FinishedApps           0\n",
              "Approved               0\n",
              "PaidOut                0\n",
              "dtype: int64"
            ]
          },
          "metadata": {
            "tags": []
          },
          "execution_count": 38
        }
      ]
    },
    {
      "cell_type": "code",
      "metadata": {
        "colab": {
          "base_uri": "https://localhost:8080/",
          "height": 204
        },
        "id": "5CspwAqgCpji",
        "outputId": "e4de76c3-7ee4-4231-e885-015e23a24734"
      },
      "source": [
        "df_application.head()"
      ],
      "execution_count": 39,
      "outputs": [
        {
          "output_type": "execute_result",
          "data": {
            "text/html": [
              "<div>\n",
              "<style scoped>\n",
              "    .dataframe tbody tr th:only-of-type {\n",
              "        vertical-align: middle;\n",
              "    }\n",
              "\n",
              "    .dataframe tbody tr th {\n",
              "        vertical-align: top;\n",
              "    }\n",
              "\n",
              "    .dataframe thead th {\n",
              "        text-align: right;\n",
              "    }\n",
              "</style>\n",
              "<table border=\"1\" class=\"dataframe\">\n",
              "  <thead>\n",
              "    <tr style=\"text-align: right;\">\n",
              "      <th></th>\n",
              "      <th>Country</th>\n",
              "      <th>Date</th>\n",
              "      <th>Date_HR</th>\n",
              "      <th>Sessions</th>\n",
              "      <th>StartedApplications</th>\n",
              "      <th>FinishedApps</th>\n",
              "      <th>Approved</th>\n",
              "      <th>PaidOut</th>\n",
              "    </tr>\n",
              "  </thead>\n",
              "  <tbody>\n",
              "    <tr>\n",
              "      <th>0</th>\n",
              "      <td>Australia</td>\n",
              "      <td>43466</td>\n",
              "      <td>01/01/2019</td>\n",
              "      <td>91127.0</td>\n",
              "      <td>28144.0</td>\n",
              "      <td>10587</td>\n",
              "      <td>523.0</td>\n",
              "      <td>510.0</td>\n",
              "    </tr>\n",
              "    <tr>\n",
              "      <th>1</th>\n",
              "      <td>Australia</td>\n",
              "      <td>43497</td>\n",
              "      <td>01/02/2019</td>\n",
              "      <td>77586.0</td>\n",
              "      <td>24290.0</td>\n",
              "      <td>9054</td>\n",
              "      <td>546.0</td>\n",
              "      <td>537.0</td>\n",
              "    </tr>\n",
              "    <tr>\n",
              "      <th>2</th>\n",
              "      <td>Australia</td>\n",
              "      <td>43525</td>\n",
              "      <td>01/03/2019</td>\n",
              "      <td>65420.0</td>\n",
              "      <td>18904.0</td>\n",
              "      <td>7614</td>\n",
              "      <td>446.0</td>\n",
              "      <td>439.0</td>\n",
              "    </tr>\n",
              "    <tr>\n",
              "      <th>3</th>\n",
              "      <td>Brazil</td>\n",
              "      <td>43466</td>\n",
              "      <td>01/01/2019</td>\n",
              "      <td>232295.0</td>\n",
              "      <td>143099.0</td>\n",
              "      <td>14264</td>\n",
              "      <td>1229.0</td>\n",
              "      <td>678.0</td>\n",
              "    </tr>\n",
              "    <tr>\n",
              "      <th>4</th>\n",
              "      <td>Brazil</td>\n",
              "      <td>43497</td>\n",
              "      <td>01/02/2019</td>\n",
              "      <td>168190.0</td>\n",
              "      <td>99253.0</td>\n",
              "      <td>14090</td>\n",
              "      <td>755.0</td>\n",
              "      <td>321.0</td>\n",
              "    </tr>\n",
              "  </tbody>\n",
              "</table>\n",
              "</div>"
            ],
            "text/plain": [
              "     Country   Date     Date_HR  ...  FinishedApps  Approved  PaidOut\n",
              "0  Australia  43466  01/01/2019  ...         10587     523.0    510.0\n",
              "1  Australia  43497  01/02/2019  ...          9054     546.0    537.0\n",
              "2  Australia  43525  01/03/2019  ...          7614     446.0    439.0\n",
              "3     Brazil  43466  01/01/2019  ...         14264    1229.0    678.0\n",
              "4     Brazil  43497  01/02/2019  ...         14090     755.0    321.0\n",
              "\n",
              "[5 rows x 8 columns]"
            ]
          },
          "metadata": {
            "tags": []
          },
          "execution_count": 39
        }
      ]
    },
    {
      "cell_type": "code",
      "metadata": {
        "colab": {
          "base_uri": "https://localhost:8080/",
          "height": 204
        },
        "id": "wP27KEaaCrpm",
        "outputId": "fa256f4e-9681-4d2c-bf40-68c72a4d569b"
      },
      "source": [
        "# dropping excel serial date and renaming the column Date_HR to Date\n",
        "df_application.drop(labels='Date', axis=1,inplace=True)\n",
        "df_application.rename(columns={'Date_HR':'Date'},inplace=True)\n",
        "df_application.head()"
      ],
      "execution_count": 41,
      "outputs": [
        {
          "output_type": "execute_result",
          "data": {
            "text/html": [
              "<div>\n",
              "<style scoped>\n",
              "    .dataframe tbody tr th:only-of-type {\n",
              "        vertical-align: middle;\n",
              "    }\n",
              "\n",
              "    .dataframe tbody tr th {\n",
              "        vertical-align: top;\n",
              "    }\n",
              "\n",
              "    .dataframe thead th {\n",
              "        text-align: right;\n",
              "    }\n",
              "</style>\n",
              "<table border=\"1\" class=\"dataframe\">\n",
              "  <thead>\n",
              "    <tr style=\"text-align: right;\">\n",
              "      <th></th>\n",
              "      <th>Country</th>\n",
              "      <th>Date</th>\n",
              "      <th>Sessions</th>\n",
              "      <th>StartedApplications</th>\n",
              "      <th>FinishedApps</th>\n",
              "      <th>Approved</th>\n",
              "      <th>PaidOut</th>\n",
              "    </tr>\n",
              "  </thead>\n",
              "  <tbody>\n",
              "    <tr>\n",
              "      <th>0</th>\n",
              "      <td>Australia</td>\n",
              "      <td>01/01/2019</td>\n",
              "      <td>91127.0</td>\n",
              "      <td>28144.0</td>\n",
              "      <td>10587</td>\n",
              "      <td>523.0</td>\n",
              "      <td>510.0</td>\n",
              "    </tr>\n",
              "    <tr>\n",
              "      <th>1</th>\n",
              "      <td>Australia</td>\n",
              "      <td>01/02/2019</td>\n",
              "      <td>77586.0</td>\n",
              "      <td>24290.0</td>\n",
              "      <td>9054</td>\n",
              "      <td>546.0</td>\n",
              "      <td>537.0</td>\n",
              "    </tr>\n",
              "    <tr>\n",
              "      <th>2</th>\n",
              "      <td>Australia</td>\n",
              "      <td>01/03/2019</td>\n",
              "      <td>65420.0</td>\n",
              "      <td>18904.0</td>\n",
              "      <td>7614</td>\n",
              "      <td>446.0</td>\n",
              "      <td>439.0</td>\n",
              "    </tr>\n",
              "    <tr>\n",
              "      <th>3</th>\n",
              "      <td>Brazil</td>\n",
              "      <td>01/01/2019</td>\n",
              "      <td>232295.0</td>\n",
              "      <td>143099.0</td>\n",
              "      <td>14264</td>\n",
              "      <td>1229.0</td>\n",
              "      <td>678.0</td>\n",
              "    </tr>\n",
              "    <tr>\n",
              "      <th>4</th>\n",
              "      <td>Brazil</td>\n",
              "      <td>01/02/2019</td>\n",
              "      <td>168190.0</td>\n",
              "      <td>99253.0</td>\n",
              "      <td>14090</td>\n",
              "      <td>755.0</td>\n",
              "      <td>321.0</td>\n",
              "    </tr>\n",
              "  </tbody>\n",
              "</table>\n",
              "</div>"
            ],
            "text/plain": [
              "     Country        Date  Sessions  ...  FinishedApps  Approved  PaidOut\n",
              "0  Australia  01/01/2019   91127.0  ...         10587     523.0    510.0\n",
              "1  Australia  01/02/2019   77586.0  ...          9054     546.0    537.0\n",
              "2  Australia  01/03/2019   65420.0  ...          7614     446.0    439.0\n",
              "3     Brazil  01/01/2019  232295.0  ...         14264    1229.0    678.0\n",
              "4     Brazil  01/02/2019  168190.0  ...         14090     755.0    321.0\n",
              "\n",
              "[5 rows x 7 columns]"
            ]
          },
          "metadata": {
            "tags": []
          },
          "execution_count": 41
        }
      ]
    },
    {
      "cell_type": "code",
      "metadata": {
        "id": "zSYQh7hIC1UA"
      },
      "source": [
        ""
      ],
      "execution_count": null,
      "outputs": []
    }
  ]
}